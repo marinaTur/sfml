{
 "cells": [
  {
   "cell_type": "markdown",
   "metadata": {
    "toc": "true"
   },
   "source": [
    "# Table of Contents\n",
    " <p><div class=\"lev1 toc-item\"><a href=\"#Skillfactory---Практический-Machine-Learning\" data-toc-modified-id=\"Skillfactory---Практический-Machine-Learning-1\"><span class=\"toc-item-num\">1&nbsp;&nbsp;</span>Skillfactory - Практический Machine Learning</a></div><div class=\"lev2 toc-item\"><a href=\"#19/02/2018---Аномалии,-работа-с-признаками,-пайплайны-(практика)\" data-toc-modified-id=\"19/02/2018---Аномалии,-работа-с-признаками,-пайплайны-(практика)-11\"><span class=\"toc-item-num\">1.1&nbsp;&nbsp;</span>19/02/2018 - Аномалии, работа с признаками, пайплайны (практика)</a></div><div class=\"lev1 toc-item\"><a href=\"#Создание-пайплайна-и-генерация-признаков\" data-toc-modified-id=\"Создание-пайплайна-и-генерация-признаков-2\"><span class=\"toc-item-num\">2&nbsp;&nbsp;</span>Создание пайплайна и генерация признаков</a></div><div class=\"lev2 toc-item\"><a href=\"#Посмотрим-на-данные\" data-toc-modified-id=\"Посмотрим-на-данные-21\"><span class=\"toc-item-num\">2.1&nbsp;&nbsp;</span>Посмотрим на данные</a></div><div class=\"lev2 toc-item\"><a href=\"#Генерим-признаки\" data-toc-modified-id=\"Генерим-признаки-22\"><span class=\"toc-item-num\">2.2&nbsp;&nbsp;</span>Генерим признаки</a></div><div class=\"lev2 toc-item\"><a href=\"#Подбор-гипер-параметров\" data-toc-modified-id=\"Подбор-гипер-параметров-23\"><span class=\"toc-item-num\">2.3&nbsp;&nbsp;</span>Подбор гипер-параметров</a></div><div class=\"lev3 toc-item\"><a href=\"#Pipeline\" data-toc-modified-id=\"Pipeline-231\"><span class=\"toc-item-num\">2.3.1&nbsp;&nbsp;</span>Pipeline</a></div><div class=\"lev3 toc-item\"><a href=\"#Подбор-гиперпараметров\" data-toc-modified-id=\"Подбор-гиперпараметров-232\"><span class=\"toc-item-num\">2.3.2&nbsp;&nbsp;</span>Подбор гиперпараметров</a></div><div class=\"lev4 toc-item\"><a href=\"#Grid-search\" data-toc-modified-id=\"Grid-search-2321\"><span class=\"toc-item-num\">2.3.2.1&nbsp;&nbsp;</span>Grid search</a></div><div class=\"lev4 toc-item\"><a href=\"#Random-Search\" data-toc-modified-id=\"Random-Search-2322\"><span class=\"toc-item-num\">2.3.2.2&nbsp;&nbsp;</span>Random Search</a></div><div class=\"lev3 toc-item\"><a href=\"#HyperOpt\" data-toc-modified-id=\"HyperOpt-233\"><span class=\"toc-item-num\">2.3.3&nbsp;&nbsp;</span>HyperOpt</a></div><div class=\"lev2 toc-item\"><a href=\"#Ваш-черед\" data-toc-modified-id=\"Ваш-черед-24\"><span class=\"toc-item-num\">2.4&nbsp;&nbsp;</span>Ваш черед</a></div><div class=\"lev3 toc-item\"><a href=\"#Новые-признаки\" data-toc-modified-id=\"Новые-признаки-241\"><span class=\"toc-item-num\">2.4.1&nbsp;&nbsp;</span>Новые признаки</a></div><div class=\"lev2 toc-item\"><a href=\"#Поиск-гиперпараметров\" data-toc-modified-id=\"Поиск-гиперпараметров-25\"><span class=\"toc-item-num\">2.5&nbsp;&nbsp;</span>Поиск гиперпараметров</a></div>"
   ]
  },
  {
   "cell_type": "markdown",
   "metadata": {},
   "source": [
    "# Skillfactory - Практический Machine Learning\n",
    "## 19/02/2018 - Аномалии, работа с признаками, пайплайны (практика)\n",
    "\n",
    "<center> Шестаков Андрей </center>"
   ]
  },
  {
   "cell_type": "code",
   "execution_count": 1,
   "metadata": {},
   "outputs": [],
   "source": [
    "import pandas as pd\n",
    "import numpy as np\n",
    "import matplotlib.pyplot as plt\n",
    "\n",
    "\n",
    "%matplotlib inline\n",
    "\n",
    "plt.style.use('ggplot')\n",
    "plt.rcParams['figure.figsize'] = (12, 8)"
   ]
  },
  {
   "cell_type": "markdown",
   "metadata": {},
   "source": [
    "# Создание пайплайна и генерация признаков\n",
    "<center>Шестаков Андрей</center>"
   ]
  },
  {
   "cell_type": "markdown",
   "metadata": {},
   "source": [
    "В этом задании мы рассмотрим данные с предыдущего Sberbank Data Science Contest. К сожалению найти страницу с конкурсом уже не получается.\n",
    "\n",
    "Одной из задач была опредление пола владельца карты по его транзакциям на карте. Зачем это нужно - одному сберу известно, но эта задача была хороша тем, что в ней можно нагенерировать много разных признаков\n",
    "\n",
    "Есть такая [презентация](https://alexanderdyakonov.files.wordpress.com/2016/10/dj2016_sdsj_vis.pdf) с предварительным анализом данных и идеями про признаки\n",
    "\n",
    "Нам понадобятся файлы `customers_gender_train.csv`, `transactions.tsv.gz`, `mcc_types.tsv` и `trans_types.tsv`."
   ]
  },
  {
   "cell_type": "markdown",
   "metadata": {},
   "source": [
    "## Посмотрим на данные"
   ]
  },
  {
   "cell_type": "markdown",
   "metadata": {},
   "source": [
    "Это метки ответов"
   ]
  },
  {
   "cell_type": "code",
   "execution_count": 2,
   "metadata": {},
   "outputs": [
    {
     "data": {
      "text/html": [
       "<div>\n",
       "<style scoped>\n",
       "    .dataframe tbody tr th:only-of-type {\n",
       "        vertical-align: middle;\n",
       "    }\n",
       "\n",
       "    .dataframe tbody tr th {\n",
       "        vertical-align: top;\n",
       "    }\n",
       "\n",
       "    .dataframe thead th {\n",
       "        text-align: right;\n",
       "    }\n",
       "</style>\n",
       "<table border=\"1\" class=\"dataframe\">\n",
       "  <thead>\n",
       "    <tr style=\"text-align: right;\">\n",
       "      <th></th>\n",
       "      <th>customer_id</th>\n",
       "      <th>gender</th>\n",
       "    </tr>\n",
       "  </thead>\n",
       "  <tbody>\n",
       "    <tr>\n",
       "      <th>0</th>\n",
       "      <td>75562265</td>\n",
       "      <td>0</td>\n",
       "    </tr>\n",
       "    <tr>\n",
       "      <th>1</th>\n",
       "      <td>10928546</td>\n",
       "      <td>1</td>\n",
       "    </tr>\n",
       "    <tr>\n",
       "      <th>2</th>\n",
       "      <td>69348468</td>\n",
       "      <td>1</td>\n",
       "    </tr>\n",
       "    <tr>\n",
       "      <th>3</th>\n",
       "      <td>84816985</td>\n",
       "      <td>1</td>\n",
       "    </tr>\n",
       "    <tr>\n",
       "      <th>4</th>\n",
       "      <td>61009479</td>\n",
       "      <td>0</td>\n",
       "    </tr>\n",
       "  </tbody>\n",
       "</table>\n",
       "</div>"
      ],
      "text/plain": [
       "   customer_id  gender\n",
       "0     75562265       0\n",
       "1     10928546       1\n",
       "2     69348468       1\n",
       "3     84816985       1\n",
       "4     61009479       0"
      ]
     },
     "execution_count": 2,
     "metadata": {},
     "output_type": "execute_result"
    }
   ],
   "source": [
    "df_gender = pd.read_csv('data/customers_gender_train.csv')\n",
    "df_gender.head()"
   ]
  },
  {
   "cell_type": "markdown",
   "metadata": {},
   "source": [
    "Это сами транзакции (отрицательные транзакции - списывание, положительные - зачисление на счет)"
   ]
  },
  {
   "cell_type": "code",
   "execution_count": 3,
   "metadata": {},
   "outputs": [
    {
     "data": {
      "text/html": [
       "<div>\n",
       "<style scoped>\n",
       "    .dataframe tbody tr th:only-of-type {\n",
       "        vertical-align: middle;\n",
       "    }\n",
       "\n",
       "    .dataframe tbody tr th {\n",
       "        vertical-align: top;\n",
       "    }\n",
       "\n",
       "    .dataframe thead th {\n",
       "        text-align: right;\n",
       "    }\n",
       "</style>\n",
       "<table border=\"1\" class=\"dataframe\">\n",
       "  <thead>\n",
       "    <tr style=\"text-align: right;\">\n",
       "      <th></th>\n",
       "      <th>customer_id</th>\n",
       "      <th>tr_datetime</th>\n",
       "      <th>mcc_code</th>\n",
       "      <th>tr_type</th>\n",
       "      <th>amount</th>\n",
       "      <th>term_id</th>\n",
       "    </tr>\n",
       "  </thead>\n",
       "  <tbody>\n",
       "    <tr>\n",
       "      <th>0</th>\n",
       "      <td>39026145</td>\n",
       "      <td>0 10:23:26</td>\n",
       "      <td>4814</td>\n",
       "      <td>1030</td>\n",
       "      <td>-2245.92</td>\n",
       "      <td>NaN</td>\n",
       "    </tr>\n",
       "    <tr>\n",
       "      <th>1</th>\n",
       "      <td>39026145</td>\n",
       "      <td>1 10:19:29</td>\n",
       "      <td>6011</td>\n",
       "      <td>7010</td>\n",
       "      <td>56147.89</td>\n",
       "      <td>NaN</td>\n",
       "    </tr>\n",
       "    <tr>\n",
       "      <th>2</th>\n",
       "      <td>39026145</td>\n",
       "      <td>1 10:20:56</td>\n",
       "      <td>4829</td>\n",
       "      <td>2330</td>\n",
       "      <td>-56147.89</td>\n",
       "      <td>NaN</td>\n",
       "    </tr>\n",
       "    <tr>\n",
       "      <th>3</th>\n",
       "      <td>39026145</td>\n",
       "      <td>1 10:39:54</td>\n",
       "      <td>5499</td>\n",
       "      <td>1010</td>\n",
       "      <td>-1392.47</td>\n",
       "      <td>NaN</td>\n",
       "    </tr>\n",
       "    <tr>\n",
       "      <th>4</th>\n",
       "      <td>39026145</td>\n",
       "      <td>2 15:33:42</td>\n",
       "      <td>5499</td>\n",
       "      <td>1010</td>\n",
       "      <td>-920.83</td>\n",
       "      <td>NaN</td>\n",
       "    </tr>\n",
       "  </tbody>\n",
       "</table>\n",
       "</div>"
      ],
      "text/plain": [
       "   customer_id tr_datetime  mcc_code  tr_type    amount term_id\n",
       "0     39026145  0 10:23:26      4814     1030  -2245.92     NaN\n",
       "1     39026145  1 10:19:29      6011     7010  56147.89     NaN\n",
       "2     39026145  1 10:20:56      4829     2330 -56147.89     NaN\n",
       "3     39026145  1 10:39:54      5499     1010  -1392.47     NaN\n",
       "4     39026145  2 15:33:42      5499     1010   -920.83     NaN"
      ]
     },
     "execution_count": 3,
     "metadata": {},
     "output_type": "execute_result"
    }
   ],
   "source": [
    "df_transactions = pd.read_csv('data/transactions.csv.gz')\n",
    "df_transactions.head()"
   ]
  },
  {
   "cell_type": "markdown",
   "metadata": {},
   "source": [
    "Далее, расшифровки кодов [mcc](https://ru.wikipedia.org/wiki/Merchant_Category_Code) и транзакций"
   ]
  },
  {
   "cell_type": "code",
   "execution_count": 4,
   "metadata": {},
   "outputs": [
    {
     "data": {
      "text/html": [
       "<div>\n",
       "<style scoped>\n",
       "    .dataframe tbody tr th:only-of-type {\n",
       "        vertical-align: middle;\n",
       "    }\n",
       "\n",
       "    .dataframe tbody tr th {\n",
       "        vertical-align: top;\n",
       "    }\n",
       "\n",
       "    .dataframe thead th {\n",
       "        text-align: right;\n",
       "    }\n",
       "</style>\n",
       "<table border=\"1\" class=\"dataframe\">\n",
       "  <thead>\n",
       "    <tr style=\"text-align: right;\">\n",
       "      <th></th>\n",
       "      <th>tr_type</th>\n",
       "      <th>tr_description</th>\n",
       "    </tr>\n",
       "  </thead>\n",
       "  <tbody>\n",
       "    <tr>\n",
       "      <th>0</th>\n",
       "      <td>3200</td>\n",
       "      <td>Плата за предоставление услуг посредством моби...</td>\n",
       "    </tr>\n",
       "    <tr>\n",
       "      <th>1</th>\n",
       "      <td>3210</td>\n",
       "      <td>Плата за предоставление отчета по счету карты ...</td>\n",
       "    </tr>\n",
       "    <tr>\n",
       "      <th>2</th>\n",
       "      <td>3800</td>\n",
       "      <td>Плата за обслуживание банковской карты (за пер...</td>\n",
       "    </tr>\n",
       "    <tr>\n",
       "      <th>3</th>\n",
       "      <td>4000</td>\n",
       "      <td>Плата за получение наличных в Сбербанке</td>\n",
       "    </tr>\n",
       "    <tr>\n",
       "      <th>4</th>\n",
       "      <td>4001</td>\n",
       "      <td>Плата за получение наличных в Сбербанке (в дру...</td>\n",
       "    </tr>\n",
       "  </tbody>\n",
       "</table>\n",
       "</div>"
      ],
      "text/plain": [
       "   tr_type                                     tr_description\n",
       "0     3200  Плата за предоставление услуг посредством моби...\n",
       "1     3210  Плата за предоставление отчета по счету карты ...\n",
       "2     3800  Плата за обслуживание банковской карты (за пер...\n",
       "3     4000            Плата за получение наличных в Сбербанке\n",
       "4     4001  Плата за получение наличных в Сбербанке (в дру..."
      ]
     },
     "execution_count": 4,
     "metadata": {},
     "output_type": "execute_result"
    }
   ],
   "source": [
    "df_tr = pd.read_csv('data/tr_types.csv', sep=';')\n",
    "df_tr.head()"
   ]
  },
  {
   "cell_type": "code",
   "execution_count": 5,
   "metadata": {},
   "outputs": [
    {
     "data": {
      "text/html": [
       "<div>\n",
       "<style scoped>\n",
       "    .dataframe tbody tr th:only-of-type {\n",
       "        vertical-align: middle;\n",
       "    }\n",
       "\n",
       "    .dataframe tbody tr th {\n",
       "        vertical-align: top;\n",
       "    }\n",
       "\n",
       "    .dataframe thead th {\n",
       "        text-align: right;\n",
       "    }\n",
       "</style>\n",
       "<table border=\"1\" class=\"dataframe\">\n",
       "  <thead>\n",
       "    <tr style=\"text-align: right;\">\n",
       "      <th></th>\n",
       "      <th>mcc_code</th>\n",
       "      <th>mcc_description</th>\n",
       "    </tr>\n",
       "  </thead>\n",
       "  <tbody>\n",
       "    <tr>\n",
       "      <th>0</th>\n",
       "      <td>742</td>\n",
       "      <td>Ветеринарные услуги</td>\n",
       "    </tr>\n",
       "    <tr>\n",
       "      <th>1</th>\n",
       "      <td>1711</td>\n",
       "      <td>Генеральные подрядчики по вентиляции, теплосна...</td>\n",
       "    </tr>\n",
       "    <tr>\n",
       "      <th>2</th>\n",
       "      <td>1731</td>\n",
       "      <td>Подрядчики по электричеству</td>\n",
       "    </tr>\n",
       "    <tr>\n",
       "      <th>3</th>\n",
       "      <td>1799</td>\n",
       "      <td>Подрядчики, специализированная торговля — нигд...</td>\n",
       "    </tr>\n",
       "    <tr>\n",
       "      <th>4</th>\n",
       "      <td>2741</td>\n",
       "      <td>Разнообразные издательства/печатное дело</td>\n",
       "    </tr>\n",
       "  </tbody>\n",
       "</table>\n",
       "</div>"
      ],
      "text/plain": [
       "   mcc_code                                    mcc_description\n",
       "0       742                                Ветеринарные услуги\n",
       "1      1711  Генеральные подрядчики по вентиляции, теплосна...\n",
       "2      1731                        Подрядчики по электричеству\n",
       "3      1799  Подрядчики, специализированная торговля — нигд...\n",
       "4      2741           Разнообразные издательства/печатное дело"
      ]
     },
     "execution_count": 5,
     "metadata": {},
     "output_type": "execute_result"
    }
   ],
   "source": [
    "df_mcc = pd.read_csv('data/tr_mcc_codes.csv', sep=';')\n",
    "df_mcc.head()"
   ]
  },
  {
   "cell_type": "markdown",
   "metadata": {},
   "source": [
    "Первое что мы видем - это странная дата и суммы в транзакциях. \n",
    "\n",
    "В принципе, посмотрев на исходное распределение \"относительных\" дат по какой-нибудь гендерной группы mcc, становится примерно понятно, что за даты закодированы.\n",
    "\n",
    "Ну а суммы транзакций организаторы просто умножили на $\\pi^{\\exp}$ =)\n",
    "\n",
    "Преобразование будет проделано ниже, но при желании, можете сами со всем разобраться."
   ]
  },
  {
   "cell_type": "code",
   "execution_count": 6,
   "metadata": {},
   "outputs": [],
   "source": [
    "from pandas import Timestamp, DateOffset"
   ]
  },
  {
   "cell_type": "code",
   "execution_count": 7,
   "metadata": {},
   "outputs": [],
   "source": [
    "def preproc_transactions(df_transactions):\n",
    "    sec_per_day = 86400\n",
    "    sec_per_hour = 3600\n",
    "    \n",
    "    start_date = 1420070400 - 154 * sec_per_day - 3 * sec_per_hour\n",
    "    \n",
    "    df_transactions.loc[:, 'day'] = df_transactions.tr_datetime\\\n",
    "                                               .str.split(' ')\\\n",
    "                                               .str.get(0)\\\n",
    "                                               .astype(int)\n",
    "    df_transactions.loc[:, 'time_raw'] = df_transactions.tr_datetime\\\n",
    "                                                    .str.split(' ')\\\n",
    "                                                    .str.get(1)\n",
    "\n",
    "    # set temp dt\n",
    "    df_transactions.loc[:, 'dt_temp'] = pd.to_datetime(df_transactions.loc[:, 'time_raw'], \n",
    "                                                    format='%H:%M:%S')\\\n",
    "                                        + DateOffset(years=115)\n",
    "    \n",
    "    df_transactions = df_transactions.assign(dt = lambda x: x.dt_temp.astype(np.int64) // 10**9\n",
    "                                             + (x.day - 153) * sec_per_day)\\\n",
    "                                     .assign(weekday = lambda x: ((x.day + 4) % 7 + 1))\n",
    "        \n",
    "    df_transactions.loc[:, 'datetime'] = pd.to_datetime(df_transactions.dt, unit='s')\n",
    "    df_transactions.loc[:, 'date'] = df_transactions.loc[:, 'datetime'].dt.strftime('%Y-%m-%d')\n",
    "    df_transactions.loc[:, 'hour'] = df_transactions.loc[:, 'datetime'].dt.strftime('%H')\n",
    "    \n",
    "    df_transactions = df_transactions.drop(['dt_temp', 'time_raw', 'tr_datetime'], axis=1)\n",
    "    \n",
    "    df_transactions.loc[:, 'amount'] = np.round(df_transactions.loc[:, 'amount']/(np.pi**np.exp(1)))\n",
    "            \n",
    "    return df_transactions"
   ]
  },
  {
   "cell_type": "code",
   "execution_count": 8,
   "metadata": {},
   "outputs": [],
   "source": [
    "df_transactions = df_transactions.pipe(preproc_transactions)"
   ]
  },
  {
   "cell_type": "code",
   "execution_count": 9,
   "metadata": {},
   "outputs": [
    {
     "data": {
      "text/html": [
       "<div>\n",
       "<style scoped>\n",
       "    .dataframe tbody tr th:only-of-type {\n",
       "        vertical-align: middle;\n",
       "    }\n",
       "\n",
       "    .dataframe tbody tr th {\n",
       "        vertical-align: top;\n",
       "    }\n",
       "\n",
       "    .dataframe thead th {\n",
       "        text-align: right;\n",
       "    }\n",
       "</style>\n",
       "<table border=\"1\" class=\"dataframe\">\n",
       "  <thead>\n",
       "    <tr style=\"text-align: right;\">\n",
       "      <th></th>\n",
       "      <th>customer_id</th>\n",
       "      <th>mcc_code</th>\n",
       "      <th>tr_type</th>\n",
       "      <th>amount</th>\n",
       "      <th>term_id</th>\n",
       "      <th>day</th>\n",
       "      <th>dt</th>\n",
       "      <th>weekday</th>\n",
       "      <th>datetime</th>\n",
       "      <th>date</th>\n",
       "      <th>hour</th>\n",
       "    </tr>\n",
       "  </thead>\n",
       "  <tbody>\n",
       "    <tr>\n",
       "      <th>0</th>\n",
       "      <td>39026145</td>\n",
       "      <td>4814</td>\n",
       "      <td>1030</td>\n",
       "      <td>-100.0</td>\n",
       "      <td>NaN</td>\n",
       "      <td>0</td>\n",
       "      <td>1406888606</td>\n",
       "      <td>5</td>\n",
       "      <td>2014-08-01 10:23:26</td>\n",
       "      <td>2014-08-01</td>\n",
       "      <td>10</td>\n",
       "    </tr>\n",
       "    <tr>\n",
       "      <th>1</th>\n",
       "      <td>39026145</td>\n",
       "      <td>6011</td>\n",
       "      <td>7010</td>\n",
       "      <td>2500.0</td>\n",
       "      <td>NaN</td>\n",
       "      <td>1</td>\n",
       "      <td>1406974769</td>\n",
       "      <td>6</td>\n",
       "      <td>2014-08-02 10:19:29</td>\n",
       "      <td>2014-08-02</td>\n",
       "      <td>10</td>\n",
       "    </tr>\n",
       "    <tr>\n",
       "      <th>2</th>\n",
       "      <td>39026145</td>\n",
       "      <td>4829</td>\n",
       "      <td>2330</td>\n",
       "      <td>-2500.0</td>\n",
       "      <td>NaN</td>\n",
       "      <td>1</td>\n",
       "      <td>1406974856</td>\n",
       "      <td>6</td>\n",
       "      <td>2014-08-02 10:20:56</td>\n",
       "      <td>2014-08-02</td>\n",
       "      <td>10</td>\n",
       "    </tr>\n",
       "    <tr>\n",
       "      <th>3</th>\n",
       "      <td>39026145</td>\n",
       "      <td>5499</td>\n",
       "      <td>1010</td>\n",
       "      <td>-62.0</td>\n",
       "      <td>NaN</td>\n",
       "      <td>1</td>\n",
       "      <td>1406975994</td>\n",
       "      <td>6</td>\n",
       "      <td>2014-08-02 10:39:54</td>\n",
       "      <td>2014-08-02</td>\n",
       "      <td>10</td>\n",
       "    </tr>\n",
       "    <tr>\n",
       "      <th>4</th>\n",
       "      <td>39026145</td>\n",
       "      <td>5499</td>\n",
       "      <td>1010</td>\n",
       "      <td>-41.0</td>\n",
       "      <td>NaN</td>\n",
       "      <td>2</td>\n",
       "      <td>1407080022</td>\n",
       "      <td>7</td>\n",
       "      <td>2014-08-03 15:33:42</td>\n",
       "      <td>2014-08-03</td>\n",
       "      <td>15</td>\n",
       "    </tr>\n",
       "  </tbody>\n",
       "</table>\n",
       "</div>"
      ],
      "text/plain": [
       "   customer_id  mcc_code  tr_type  amount term_id  day          dt  weekday  \\\n",
       "0     39026145      4814     1030  -100.0     NaN    0  1406888606        5   \n",
       "1     39026145      6011     7010  2500.0     NaN    1  1406974769        6   \n",
       "2     39026145      4829     2330 -2500.0     NaN    1  1406974856        6   \n",
       "3     39026145      5499     1010   -62.0     NaN    1  1406975994        6   \n",
       "4     39026145      5499     1010   -41.0     NaN    2  1407080022        7   \n",
       "\n",
       "             datetime        date hour  \n",
       "0 2014-08-01 10:23:26  2014-08-01   10  \n",
       "1 2014-08-02 10:19:29  2014-08-02   10  \n",
       "2 2014-08-02 10:20:56  2014-08-02   10  \n",
       "3 2014-08-02 10:39:54  2014-08-02   10  \n",
       "4 2014-08-03 15:33:42  2014-08-03   15  "
      ]
     },
     "execution_count": 9,
     "metadata": {},
     "output_type": "execute_result"
    }
   ],
   "source": [
    "df_transactions.head()"
   ]
  },
  {
   "cell_type": "markdown",
   "metadata": {},
   "source": [
    "## Генерим признаки"
   ]
  },
  {
   "cell_type": "markdown",
   "metadata": {},
   "source": [
    "В качестве базовых признаков, можно взять, например, \n",
    "* количество (доля) транзакций по каждому mcc_code\n",
    "* количество (доля) транзакций в разные промежутки времени"
   ]
  },
  {
   "cell_type": "code",
   "execution_count": 10,
   "metadata": {},
   "outputs": [],
   "source": [
    "def gen_features(df_gender, df_transactions):\n",
    "    \n",
    "    df_mcc_counts = \\\n",
    "        df_transactions.pivot_table(index=['customer_id'], columns='mcc_code', values='amount', \n",
    "                             aggfunc=np.size, fill_value=0)\n",
    "\n",
    "    df_mcc_counts = df_mcc_counts.rename_axis(lambda x: 'mcc_{}_count'.format(x), axis=1)\n",
    "\n",
    "    df_hour_rations = \\\n",
    "        df_transactions.pivot_table(index=['customer_id'], columns='hour', values='amount', \n",
    "                             aggfunc=np.size, fill_value=0)\n",
    "\n",
    "    # Сложная и нетривиальная конструкция\n",
    "    total = df_hour_rations.sum(axis=1)\n",
    "    df_hour_rations.loc[:, 'morning'] = (df_hour_rations.loc[:, '05':'11'].sum(axis=1).T/total).T\n",
    "    df_hour_rations.loc[:, 'day'] = (df_hour_rations.loc[:, '12':'17'].sum(axis=1).T/total).T\n",
    "    df_hour_rations.loc[:, 'evening'] = (df_hour_rations.loc[:, '18':'23'].sum(axis=1).T/total).T\n",
    "    df_hour_rations.loc[:, 'night'] = (df_hour_rations.loc[:, '00':'04'].sum(axis=1).T/total).T\n",
    "\n",
    "\n",
    "    # Объединяем:\n",
    "    df_features = df_gender.join(df_mcc_counts, on='customer_id', how='left')\\\n",
    "                           .join(df_hour_rations.loc[:, ['morning', 'day', 'evening', 'night']], on='customer_id', how='left')\n",
    "        \n",
    "    return df_features"
   ]
  },
  {
   "cell_type": "code",
   "execution_count": 11,
   "metadata": {},
   "outputs": [
    {
     "name": "stderr",
     "output_type": "stream",
     "text": [
      "/Library/Frameworks/Python.framework/Versions/3.6/lib/python3.6/site-packages/ipykernel_launcher.py:6: FutureWarning: Using 'rename_axis' to alter labels is deprecated. Use '.rename' instead\n",
      "  \n"
     ]
    }
   ],
   "source": [
    "df_features = df_gender.pipe(gen_features, df_transactions)"
   ]
  },
  {
   "cell_type": "code",
   "execution_count": 12,
   "metadata": {},
   "outputs": [],
   "source": [
    "label = 'gender'\n",
    "idx_features = df_features.columns != label"
   ]
  },
  {
   "cell_type": "code",
   "execution_count": 13,
   "metadata": {},
   "outputs": [],
   "source": [
    "X = df_features.loc[:, idx_features].values\n",
    "y = df_features.loc[:, ~idx_features].values.flatten()"
   ]
  },
  {
   "cell_type": "markdown",
   "metadata": {},
   "source": [
    "## Подбор гипер-параметров"
   ]
  },
  {
   "cell_type": "markdown",
   "metadata": {
    "collapsed": true
   },
   "source": [
    "### Pipeline"
   ]
  },
  {
   "cell_type": "markdown",
   "metadata": {},
   "source": [
    "Сделаем простой sklearn пайплайн, который делает следующее:\n",
    "* Нормирует признаки через StandartScaler\n",
    "* Запускает лог-регрессию"
   ]
  },
  {
   "cell_type": "code",
   "execution_count": 10,
   "metadata": {},
   "outputs": [],
   "source": [
    "from sklearn.pipeline import Pipeline, FeatureUnion\n",
    "from sklearn.preprocessing import OneHotEncoder, StandardScaler\n",
    "\n",
    "from sklearn.linear_model import LogisticRegression"
   ]
  },
  {
   "cell_type": "code",
   "execution_count": 11,
   "metadata": {},
   "outputs": [],
   "source": [
    "model = Pipeline([\n",
    "    ('scaler', StandardScaler()),\n",
    "    ('clf', LogisticRegression())\n",
    "])"
   ]
  },
  {
   "cell_type": "code",
   "execution_count": 12,
   "metadata": {},
   "outputs": [],
   "source": [
    "RND_SEED = 123"
   ]
  },
  {
   "cell_type": "markdown",
   "metadata": {},
   "source": [
    "### Подбор гиперпараметров\n",
    "\n",
    "До этого мы исключительно смотрели, как влияет на меру качества какой-то один параметр при фиксированных остальных. Пришло время перебирать все что можно!\n",
    "\n",
    "В базовом варианте, это делается либо через `Grid Search`, либо через `Random Search`. Какие ключевые отличия?\n",
    "* В `Grid Search` вы в явнов виде задаете возможные значения каждого гипер-параметра, который хотите варьировать. Соответственно, выполняется **полный** перебор всех возможных комбинаций\n",
    "* В `Random Search` допукается указание распределения параметров, например \"равномерно, на интервале от 0 до 100\" или \"нормальное распределение с таким-то цетром и такой-то дисперсией. Соответственно, так как это случайный перебор, то **вы** просто **задаете** количество случайных комбинаций, которые будут проверяться\n",
    "\n",
    "Может показаться, что делать случайный перебор опасно - там же все случайно. Но на практике именно он и искользуется в силу двух причин\n",
    "* Полный перебор большого количества комбинаций очень долгий\n",
    "* Мы можем просто пропустить значения гиперпараметра, которые сильно влияют на метрику качества (см рисунок снизу)"
   ]
  },
  {
   "cell_type": "markdown",
   "metadata": {},
   "source": [
    "<img src='img/gridsearch.jpeg'>"
   ]
  },
  {
   "cell_type": "markdown",
   "metadata": {},
   "source": [
    "Попробуем оба варианта"
   ]
  },
  {
   "cell_type": "markdown",
   "metadata": {},
   "source": [
    "#### Grid search"
   ]
  },
  {
   "cell_type": "code",
   "execution_count": 29,
   "metadata": {},
   "outputs": [],
   "source": [
    "from sklearn.model_selection import GridSearchCV, RandomizedSearchCV\n",
    "from sklearn.model_selection import StratifiedKFold\n"
   ]
  },
  {
   "cell_type": "code",
   "execution_count": 18,
   "metadata": {},
   "outputs": [
    {
     "name": "stdout",
     "output_type": "stream",
     "text": [
      "{'scaler__with_mean': [False, True], 'clf__penalty': ['l1', 'l2'], 'clf__random_state': [123], 'clf__C': array([1.00000000e-05, 7.74263683e-05, 5.99484250e-04, 4.64158883e-03,\n",
      "       3.59381366e-02, 2.78255940e-01, 2.15443469e+00, 1.66810054e+01,\n",
      "       1.29154967e+02, 1.00000000e+03])}\n"
     ]
    }
   ],
   "source": [
    "# Задаем значения параметров, которые хотим проверить\n",
    "\n",
    "# в данном случае \"__\" разленяет название гиперпараметра от этапа, где этот гиперпараметр используется\n",
    "# если у нас будет не пайплайн, а просто один классификатор, то разделитель указывать не нужно\n",
    "param_grid = {\n",
    "    'scaler__with_mean': [False, True],\n",
    "    'clf__penalty': ['l1', 'l2'],\n",
    "    'clf__random_state': [RND_SEED],\n",
    "    'clf__C': np.logspace(-5, 3, 10)\n",
    "}\n",
    "\n",
    "print(param_grid)\n",
    "\n",
    "# Задаем схему кросс-валидации\n",
    "cv = StratifiedKFold(n_splits=5, random_state=RND_SEED, shuffle=True)"
   ]
  },
  {
   "cell_type": "code",
   "execution_count": 19,
   "metadata": {
    "scrolled": true
   },
   "outputs": [
    {
     "name": "stdout",
     "output_type": "stream",
     "text": [
      "Fitting 5 folds for each of 40 candidates, totalling 200 fits\n",
      "[CV] clf__C=1e-05, clf__penalty=l1, clf__random_state=123, scaler__with_mean=False \n",
      "[CV] clf__C=1e-05, clf__penalty=l1, clf__random_state=123, scaler__with_mean=False \n",
      "[CV] clf__C=1e-05, clf__penalty=l1, clf__random_state=123, scaler__with_mean=False \n",
      "[CV] clf__C=1e-05, clf__penalty=l1, clf__random_state=123, scaler__with_mean=False \n",
      "[CV]  clf__C=1e-05, clf__penalty=l1, clf__random_state=123, scaler__with_mean=False, total=   0.3s\n",
      "[CV] clf__C=1e-05, clf__penalty=l1, clf__random_state=123, scaler__with_mean=False \n",
      "[CV]  clf__C=1e-05, clf__penalty=l1, clf__random_state=123, scaler__with_mean=False, total=   0.3s\n",
      "[CV] clf__C=1e-05, clf__penalty=l1, clf__random_state=123, scaler__with_mean=True \n",
      "[CV]  clf__C=1e-05, clf__penalty=l1, clf__random_state=123, scaler__with_mean=False, total=   0.4s\n",
      "[CV] clf__C=1e-05, clf__penalty=l1, clf__random_state=123, scaler__with_mean=True \n",
      "[CV]  clf__C=1e-05, clf__penalty=l1, clf__random_state=123, scaler__with_mean=False, total=   0.3s\n",
      "[CV] clf__C=1e-05, clf__penalty=l1, clf__random_state=123, scaler__with_mean=True \n",
      "[CV]  clf__C=1e-05, clf__penalty=l1, clf__random_state=123, scaler__with_mean=False, total=   0.2s\n",
      "[CV] clf__C=1e-05, clf__penalty=l1, clf__random_state=123, scaler__with_mean=True \n",
      "[CV]  clf__C=1e-05, clf__penalty=l1, clf__random_state=123, scaler__with_mean=True, total=   0.4s\n",
      "[CV] clf__C=1e-05, clf__penalty=l1, clf__random_state=123, scaler__with_mean=True \n",
      "[CV]  clf__C=1e-05, clf__penalty=l1, clf__random_state=123, scaler__with_mean=True, total=   0.4s\n",
      "[CV]  clf__C=1e-05, clf__penalty=l1, clf__random_state=123, scaler__with_mean=True, total=   0.4s\n",
      "[CV] clf__C=1e-05, clf__penalty=l2, clf__random_state=123, scaler__with_mean=False \n",
      "[CV] clf__C=1e-05, clf__penalty=l2, clf__random_state=123, scaler__with_mean=False \n",
      "[CV]  clf__C=1e-05, clf__penalty=l1, clf__random_state=123, scaler__with_mean=True, total=   0.3s\n",
      "[CV] clf__C=1e-05, clf__penalty=l2, clf__random_state=123, scaler__with_mean=False \n",
      "[CV]  clf__C=1e-05, clf__penalty=l2, clf__random_state=123, scaler__with_mean=False, total=   0.3s\n",
      "[CV]  clf__C=1e-05, clf__penalty=l2, clf__random_state=123, scaler__with_mean=False, total=   0.3s\n",
      "[CV] clf__C=1e-05, clf__penalty=l2, clf__random_state=123, scaler__with_mean=False \n",
      "[CV] clf__C=1e-05, clf__penalty=l2, clf__random_state=123, scaler__with_mean=False \n",
      "[CV]  clf__C=1e-05, clf__penalty=l1, clf__random_state=123, scaler__with_mean=True, total=   0.4s\n",
      "[CV]  clf__C=1e-05, clf__penalty=l2, clf__random_state=123, scaler__with_mean=False, total=   0.3s\n",
      "[CV] clf__C=1e-05, clf__penalty=l2, clf__random_state=123, scaler__with_mean=True \n",
      "[CV] clf__C=1e-05, clf__penalty=l2, clf__random_state=123, scaler__with_mean=True \n",
      "[CV]  clf__C=1e-05, clf__penalty=l2, clf__random_state=123, scaler__with_mean=False, total=   0.3s\n",
      "[CV] clf__C=1e-05, clf__penalty=l2, clf__random_state=123, scaler__with_mean=True \n",
      "[CV]  clf__C=1e-05, clf__penalty=l2, clf__random_state=123, scaler__with_mean=False, total=   0.3s\n",
      "[CV] clf__C=1e-05, clf__penalty=l2, clf__random_state=123, scaler__with_mean=True \n",
      "[CV]  clf__C=1e-05, clf__penalty=l2, clf__random_state=123, scaler__with_mean=True, total=   0.4s\n",
      "[CV] clf__C=1e-05, clf__penalty=l2, clf__random_state=123, scaler__with_mean=True \n",
      "[CV]  clf__C=1e-05, clf__penalty=l2, clf__random_state=123, scaler__with_mean=True, total=   0.4s\n",
      "[CV] clf__C=7.742636826811278e-05, clf__penalty=l1, clf__random_state=123, scaler__with_mean=False \n",
      "[CV]  clf__C=1e-05, clf__penalty=l2, clf__random_state=123, scaler__with_mean=True, total=   0.4s\n",
      "[CV] clf__C=7.742636826811278e-05, clf__penalty=l1, clf__random_state=123, scaler__with_mean=False \n",
      "[CV]  clf__C=1e-05, clf__penalty=l2, clf__random_state=123, scaler__with_mean=True, total=   0.4s\n",
      "[CV] clf__C=7.742636826811278e-05, clf__penalty=l1, clf__random_state=123, scaler__with_mean=False \n",
      "[CV]  clf__C=7.742636826811278e-05, clf__penalty=l1, clf__random_state=123, scaler__with_mean=False, total=   0.2s\n",
      "[CV] clf__C=7.742636826811278e-05, clf__penalty=l1, clf__random_state=123, scaler__with_mean=False \n",
      "[CV]  clf__C=1e-05, clf__penalty=l2, clf__random_state=123, scaler__with_mean=True, total=   0.4s\n",
      "[CV] clf__C=7.742636826811278e-05, clf__penalty=l1, clf__random_state=123, scaler__with_mean=False \n",
      "[CV]  clf__C=7.742636826811278e-05, clf__penalty=l1, clf__random_state=123, scaler__with_mean=False, total=   0.2s\n",
      "[CV] clf__C=7.742636826811278e-05, clf__penalty=l1, clf__random_state=123, scaler__with_mean=True \n",
      "[CV]  clf__C=7.742636826811278e-05, clf__penalty=l1, clf__random_state=123, scaler__with_mean=False, total=   0.3s\n",
      "[CV]  clf__C=7.742636826811278e-05, clf__penalty=l1, clf__random_state=123, scaler__with_mean=False, total=   0.2s\n",
      "[CV] clf__C=7.742636826811278e-05, clf__penalty=l1, clf__random_state=123, scaler__with_mean=True \n",
      "[CV] clf__C=7.742636826811278e-05, clf__penalty=l1, clf__random_state=123, scaler__with_mean=True \n",
      "[CV]  clf__C=7.742636826811278e-05, clf__penalty=l1, clf__random_state=123, scaler__with_mean=False, total=   0.2s\n",
      "[CV] clf__C=7.742636826811278e-05, clf__penalty=l1, clf__random_state=123, scaler__with_mean=True \n",
      "[CV]  clf__C=7.742636826811278e-05, clf__penalty=l1, clf__random_state=123, scaler__with_mean=True, total=   0.4s\n",
      "[CV]  clf__C=7.742636826811278e-05, clf__penalty=l1, clf__random_state=123, scaler__with_mean=True, total=   0.3s\n",
      "[CV]  clf__C=7.742636826811278e-05, clf__penalty=l1, clf__random_state=123, scaler__with_mean=True, total=   0.3s\n",
      "[CV] clf__C=7.742636826811278e-05, clf__penalty=l1, clf__random_state=123, scaler__with_mean=True \n",
      "[CV] clf__C=7.742636826811278e-05, clf__penalty=l2, clf__random_state=123, scaler__with_mean=False \n",
      "[CV] clf__C=7.742636826811278e-05, clf__penalty=l2, clf__random_state=123, scaler__with_mean=False \n",
      "[CV]  clf__C=7.742636826811278e-05, clf__penalty=l1, clf__random_state=123, scaler__with_mean=True, total=   0.3s\n",
      "[CV] clf__C=7.742636826811278e-05, clf__penalty=l2, clf__random_state=123, scaler__with_mean=False \n",
      "[CV]  clf__C=7.742636826811278e-05, clf__penalty=l2, clf__random_state=123, scaler__with_mean=False, total=   0.3s\n",
      "[CV]  clf__C=7.742636826811278e-05, clf__penalty=l2, clf__random_state=123, scaler__with_mean=False, total=   0.3s\n",
      "[CV] clf__C=7.742636826811278e-05, clf__penalty=l2, clf__random_state=123, scaler__with_mean=False \n",
      "[CV]  clf__C=7.742636826811278e-05, clf__penalty=l1, clf__random_state=123, scaler__with_mean=True, total=   0.3s\n",
      "[CV] clf__C=7.742636826811278e-05, clf__penalty=l2, clf__random_state=123, scaler__with_mean=False \n",
      "[CV] clf__C=7.742636826811278e-05, clf__penalty=l2, clf__random_state=123, scaler__with_mean=True \n",
      "[CV]  clf__C=7.742636826811278e-05, clf__penalty=l2, clf__random_state=123, scaler__with_mean=False, total=   0.2s\n",
      "[CV] clf__C=7.742636826811278e-05, clf__penalty=l2, clf__random_state=123, scaler__with_mean=True \n"
     ]
    },
    {
     "name": "stderr",
     "output_type": "stream",
     "text": [
      "[Parallel(n_jobs=-1)]: Done  33 tasks      | elapsed:    3.8s\n"
     ]
    },
    {
     "name": "stdout",
     "output_type": "stream",
     "text": [
      "[CV]  clf__C=7.742636826811278e-05, clf__penalty=l2, clf__random_state=123, scaler__with_mean=False, total=   0.3s\n",
      "[CV]  clf__C=7.742636826811278e-05, clf__penalty=l2, clf__random_state=123, scaler__with_mean=False, total=   0.3s\n",
      "[CV] clf__C=7.742636826811278e-05, clf__penalty=l2, clf__random_state=123, scaler__with_mean=True \n",
      "[CV] clf__C=7.742636826811278e-05, clf__penalty=l2, clf__random_state=123, scaler__with_mean=True \n",
      "[CV]  clf__C=7.742636826811278e-05, clf__penalty=l2, clf__random_state=123, scaler__with_mean=True, total=   0.5s\n",
      "[CV] clf__C=7.742636826811278e-05, clf__penalty=l2, clf__random_state=123, scaler__with_mean=True \n",
      "[CV]  clf__C=7.742636826811278e-05, clf__penalty=l2, clf__random_state=123, scaler__with_mean=True, total=   0.5s\n",
      "[CV] clf__C=0.0005994842503189409, clf__penalty=l1, clf__random_state=123, scaler__with_mean=False \n",
      "[CV]  clf__C=7.742636826811278e-05, clf__penalty=l2, clf__random_state=123, scaler__with_mean=True, total=   0.5s\n",
      "[CV]  clf__C=7.742636826811278e-05, clf__penalty=l2, clf__random_state=123, scaler__with_mean=True, total=   0.5s\n",
      "[CV] clf__C=0.0005994842503189409, clf__penalty=l1, clf__random_state=123, scaler__with_mean=False \n",
      "[CV]  clf__C=0.0005994842503189409, clf__penalty=l1, clf__random_state=123, scaler__with_mean=False, total=   0.2s\n",
      "[CV] clf__C=0.0005994842503189409, clf__penalty=l1, clf__random_state=123, scaler__with_mean=False \n",
      "[CV] clf__C=0.0005994842503189409, clf__penalty=l1, clf__random_state=123, scaler__with_mean=False \n",
      "[CV]  clf__C=7.742636826811278e-05, clf__penalty=l2, clf__random_state=123, scaler__with_mean=True, total=   0.5s\n",
      "[CV] clf__C=0.0005994842503189409, clf__penalty=l1, clf__random_state=123, scaler__with_mean=False \n",
      "[CV]  clf__C=0.0005994842503189409, clf__penalty=l1, clf__random_state=123, scaler__with_mean=False, total=   0.2s\n",
      "[CV]  clf__C=0.0005994842503189409, clf__penalty=l1, clf__random_state=123, scaler__with_mean=False, total=   0.2s\n",
      "[CV] clf__C=0.0005994842503189409, clf__penalty=l1, clf__random_state=123, scaler__with_mean=True \n",
      "[CV] clf__C=0.0005994842503189409, clf__penalty=l1, clf__random_state=123, scaler__with_mean=True \n",
      "[CV]  clf__C=0.0005994842503189409, clf__penalty=l1, clf__random_state=123, scaler__with_mean=False, total=   0.2s\n",
      "[CV] clf__C=0.0005994842503189409, clf__penalty=l1, clf__random_state=123, scaler__with_mean=True \n",
      "[CV]  clf__C=0.0005994842503189409, clf__penalty=l1, clf__random_state=123, scaler__with_mean=False, total=   0.3s\n",
      "[CV] clf__C=0.0005994842503189409, clf__penalty=l1, clf__random_state=123, scaler__with_mean=True \n",
      "[CV]  clf__C=0.0005994842503189409, clf__penalty=l1, clf__random_state=123, scaler__with_mean=True, total=   0.3s\n",
      "[CV]  clf__C=0.0005994842503189409, clf__penalty=l1, clf__random_state=123, scaler__with_mean=True, total=   0.4s\n",
      "[CV] clf__C=0.0005994842503189409, clf__penalty=l1, clf__random_state=123, scaler__with_mean=True \n",
      "[CV]  clf__C=0.0005994842503189409, clf__penalty=l1, clf__random_state=123, scaler__with_mean=True, total=   0.3s\n",
      "[CV] clf__C=0.0005994842503189409, clf__penalty=l2, clf__random_state=123, scaler__with_mean=False \n",
      "[CV] clf__C=0.0005994842503189409, clf__penalty=l2, clf__random_state=123, scaler__with_mean=False \n",
      "[CV]  clf__C=0.0005994842503189409, clf__penalty=l1, clf__random_state=123, scaler__with_mean=True, total=   0.3s\n",
      "[CV] clf__C=0.0005994842503189409, clf__penalty=l2, clf__random_state=123, scaler__with_mean=False \n",
      "[CV]  clf__C=0.0005994842503189409, clf__penalty=l2, clf__random_state=123, scaler__with_mean=False, total=   0.3s\n",
      "[CV] clf__C=0.0005994842503189409, clf__penalty=l2, clf__random_state=123, scaler__with_mean=False \n",
      "[CV]  clf__C=0.0005994842503189409, clf__penalty=l1, clf__random_state=123, scaler__with_mean=True, total=   0.3s\n",
      "[CV] clf__C=0.0005994842503189409, clf__penalty=l2, clf__random_state=123, scaler__with_mean=False \n",
      "[CV]  clf__C=0.0005994842503189409, clf__penalty=l2, clf__random_state=123, scaler__with_mean=False, total=   0.3s\n",
      "[CV] clf__C=0.0005994842503189409, clf__penalty=l2, clf__random_state=123, scaler__with_mean=True \n",
      "[CV]  clf__C=0.0005994842503189409, clf__penalty=l2, clf__random_state=123, scaler__with_mean=False, total=   0.4s\n",
      "[CV] clf__C=0.0005994842503189409, clf__penalty=l2, clf__random_state=123, scaler__with_mean=True \n",
      "[CV]  clf__C=0.0005994842503189409, clf__penalty=l2, clf__random_state=123, scaler__with_mean=False, total=   0.4s\n",
      "[CV] clf__C=0.0005994842503189409, clf__penalty=l2, clf__random_state=123, scaler__with_mean=True \n",
      "[CV]  clf__C=0.0005994842503189409, clf__penalty=l2, clf__random_state=123, scaler__with_mean=False, total=   0.3s\n",
      "[CV] clf__C=0.0005994842503189409, clf__penalty=l2, clf__random_state=123, scaler__with_mean=True \n",
      "[CV]  clf__C=0.0005994842503189409, clf__penalty=l2, clf__random_state=123, scaler__with_mean=True, total=   0.7s\n",
      "[CV] clf__C=0.0005994842503189409, clf__penalty=l2, clf__random_state=123, scaler__with_mean=True \n",
      "[CV]  clf__C=0.0005994842503189409, clf__penalty=l2, clf__random_state=123, scaler__with_mean=True, total=   0.7s\n",
      "[CV] clf__C=0.004641588833612777, clf__penalty=l1, clf__random_state=123, scaler__with_mean=False \n",
      "[CV]  clf__C=0.0005994842503189409, clf__penalty=l2, clf__random_state=123, scaler__with_mean=True, total=   0.6s\n",
      "[CV] clf__C=0.004641588833612777, clf__penalty=l1, clf__random_state=123, scaler__with_mean=False \n",
      "[CV]  clf__C=0.0005994842503189409, clf__penalty=l2, clf__random_state=123, scaler__with_mean=True, total=   0.7s\n",
      "[CV] clf__C=0.004641588833612777, clf__penalty=l1, clf__random_state=123, scaler__with_mean=False \n",
      "[CV]  clf__C=0.004641588833612777, clf__penalty=l1, clf__random_state=123, scaler__with_mean=False, total=   0.3s\n",
      "[CV] clf__C=0.004641588833612777, clf__penalty=l1, clf__random_state=123, scaler__with_mean=False \n",
      "[CV]  clf__C=0.004641588833612777, clf__penalty=l1, clf__random_state=123, scaler__with_mean=False, total=   0.2s\n",
      "[CV] clf__C=0.004641588833612777, clf__penalty=l1, clf__random_state=123, scaler__with_mean=False \n",
      "[CV]  clf__C=0.004641588833612777, clf__penalty=l1, clf__random_state=123, scaler__with_mean=False, total=   0.3s\n",
      "[CV] clf__C=0.004641588833612777, clf__penalty=l1, clf__random_state=123, scaler__with_mean=True \n",
      "[CV]  clf__C=0.0005994842503189409, clf__penalty=l2, clf__random_state=123, scaler__with_mean=True, total=   0.7s\n",
      "[CV] clf__C=0.004641588833612777, clf__penalty=l1, clf__random_state=123, scaler__with_mean=True \n",
      "[CV]  clf__C=0.004641588833612777, clf__penalty=l1, clf__random_state=123, scaler__with_mean=False, total=   0.3s\n",
      "[CV] clf__C=0.004641588833612777, clf__penalty=l1, clf__random_state=123, scaler__with_mean=True \n",
      "[CV]  clf__C=0.004641588833612777, clf__penalty=l1, clf__random_state=123, scaler__with_mean=False, total=   0.3s\n",
      "[CV] clf__C=0.004641588833612777, clf__penalty=l1, clf__random_state=123, scaler__with_mean=True \n",
      "[CV]  clf__C=0.004641588833612777, clf__penalty=l1, clf__random_state=123, scaler__with_mean=True, total=   0.4s\n",
      "[CV]  clf__C=0.004641588833612777, clf__penalty=l1, clf__random_state=123, scaler__with_mean=True, total=   0.5s\n",
      "[CV] clf__C=0.004641588833612777, clf__penalty=l1, clf__random_state=123, scaler__with_mean=True \n",
      "[CV] clf__C=0.004641588833612777, clf__penalty=l2, clf__random_state=123, scaler__with_mean=False \n",
      "[CV]  clf__C=0.004641588833612777, clf__penalty=l1, clf__random_state=123, scaler__with_mean=True, total=   0.5s\n",
      "[CV] clf__C=0.004641588833612777, clf__penalty=l2, clf__random_state=123, scaler__with_mean=False \n",
      "[CV]  clf__C=0.004641588833612777, clf__penalty=l1, clf__random_state=123, scaler__with_mean=True, total=   0.5s\n",
      "[CV] clf__C=0.004641588833612777, clf__penalty=l2, clf__random_state=123, scaler__with_mean=False \n",
      "[CV]  clf__C=0.004641588833612777, clf__penalty=l2, clf__random_state=123, scaler__with_mean=False, total=   0.3s\n",
      "[CV] clf__C=0.004641588833612777, clf__penalty=l2, clf__random_state=123, scaler__with_mean=False \n",
      "[CV]  clf__C=0.004641588833612777, clf__penalty=l1, clf__random_state=123, scaler__with_mean=True, total=   0.5s\n",
      "[CV] clf__C=0.004641588833612777, clf__penalty=l2, clf__random_state=123, scaler__with_mean=False \n",
      "[CV]  clf__C=0.004641588833612777, clf__penalty=l2, clf__random_state=123, scaler__with_mean=False, total=   0.4s\n"
     ]
    },
    {
     "name": "stdout",
     "output_type": "stream",
     "text": [
      "[CV] clf__C=0.004641588833612777, clf__penalty=l2, clf__random_state=123, scaler__with_mean=True \n",
      "[CV]  clf__C=0.004641588833612777, clf__penalty=l2, clf__random_state=123, scaler__with_mean=False, total=   0.4s\n",
      "[CV] clf__C=0.004641588833612777, clf__penalty=l2, clf__random_state=123, scaler__with_mean=True \n",
      "[CV]  clf__C=0.004641588833612777, clf__penalty=l2, clf__random_state=123, scaler__with_mean=False, total=   0.4s\n",
      "[CV] clf__C=0.004641588833612777, clf__penalty=l2, clf__random_state=123, scaler__with_mean=True \n",
      "[CV]  clf__C=0.004641588833612777, clf__penalty=l2, clf__random_state=123, scaler__with_mean=False, total=   0.4s\n",
      "[CV] clf__C=0.004641588833612777, clf__penalty=l2, clf__random_state=123, scaler__with_mean=True \n",
      "[CV]  clf__C=0.004641588833612777, clf__penalty=l2, clf__random_state=123, scaler__with_mean=True, total=   0.9s\n",
      "[CV] clf__C=0.004641588833612777, clf__penalty=l2, clf__random_state=123, scaler__with_mean=True \n",
      "[CV]  clf__C=0.004641588833612777, clf__penalty=l2, clf__random_state=123, scaler__with_mean=True, total=   0.9s\n",
      "[CV] clf__C=0.03593813663804626, clf__penalty=l1, clf__random_state=123, scaler__with_mean=False \n",
      "[CV]  clf__C=0.004641588833612777, clf__penalty=l2, clf__random_state=123, scaler__with_mean=True, total=   0.8s\n",
      "[CV] clf__C=0.03593813663804626, clf__penalty=l1, clf__random_state=123, scaler__with_mean=False \n",
      "[CV]  clf__C=0.004641588833612777, clf__penalty=l2, clf__random_state=123, scaler__with_mean=True, total=   0.9s\n",
      "[CV] clf__C=0.03593813663804626, clf__penalty=l1, clf__random_state=123, scaler__with_mean=False \n",
      "[CV]  clf__C=0.03593813663804626, clf__penalty=l1, clf__random_state=123, scaler__with_mean=False, total=   0.3s\n",
      "[CV] clf__C=0.03593813663804626, clf__penalty=l1, clf__random_state=123, scaler__with_mean=False \n",
      "[CV]  clf__C=0.03593813663804626, clf__penalty=l1, clf__random_state=123, scaler__with_mean=False, total=   0.3s\n",
      "[CV] clf__C=0.03593813663804626, clf__penalty=l1, clf__random_state=123, scaler__with_mean=False \n",
      "[CV]  clf__C=0.03593813663804626, clf__penalty=l1, clf__random_state=123, scaler__with_mean=False, total=   0.3s\n",
      "[CV] clf__C=0.03593813663804626, clf__penalty=l1, clf__random_state=123, scaler__with_mean=True \n",
      "[CV]  clf__C=0.03593813663804626, clf__penalty=l1, clf__random_state=123, scaler__with_mean=False, total=   0.3s\n",
      "[CV] clf__C=0.03593813663804626, clf__penalty=l1, clf__random_state=123, scaler__with_mean=True \n",
      "[CV]  clf__C=0.03593813663804626, clf__penalty=l1, clf__random_state=123, scaler__with_mean=False, total=   0.3s\n",
      "[CV] clf__C=0.03593813663804626, clf__penalty=l1, clf__random_state=123, scaler__with_mean=True \n",
      "[CV]  clf__C=0.004641588833612777, clf__penalty=l2, clf__random_state=123, scaler__with_mean=True, total=   1.0s\n",
      "[CV] clf__C=0.03593813663804626, clf__penalty=l1, clf__random_state=123, scaler__with_mean=True \n",
      "[CV]  clf__C=0.03593813663804626, clf__penalty=l1, clf__random_state=123, scaler__with_mean=True, total=   1.0s\n",
      "[CV] clf__C=0.03593813663804626, clf__penalty=l1, clf__random_state=123, scaler__with_mean=True \n",
      "[CV]  clf__C=0.03593813663804626, clf__penalty=l1, clf__random_state=123, scaler__with_mean=True, total=   1.2s\n",
      "[CV] clf__C=0.03593813663804626, clf__penalty=l2, clf__random_state=123, scaler__with_mean=False \n",
      "[CV]  clf__C=0.03593813663804626, clf__penalty=l1, clf__random_state=123, scaler__with_mean=True, total=   1.2s\n",
      "[CV] clf__C=0.03593813663804626, clf__penalty=l2, clf__random_state=123, scaler__with_mean=False \n",
      "[CV]  clf__C=0.03593813663804626, clf__penalty=l1, clf__random_state=123, scaler__with_mean=True, total=   1.2s\n",
      "[CV] clf__C=0.03593813663804626, clf__penalty=l2, clf__random_state=123, scaler__with_mean=False \n",
      "[CV]  clf__C=0.03593813663804626, clf__penalty=l2, clf__random_state=123, scaler__with_mean=False, total=   0.4s\n",
      "[CV] clf__C=0.03593813663804626, clf__penalty=l2, clf__random_state=123, scaler__with_mean=False \n",
      "[CV]  clf__C=0.03593813663804626, clf__penalty=l2, clf__random_state=123, scaler__with_mean=False, total=   0.4s\n",
      "[CV] clf__C=0.03593813663804626, clf__penalty=l2, clf__random_state=123, scaler__with_mean=False \n",
      "[CV]  clf__C=0.03593813663804626, clf__penalty=l2, clf__random_state=123, scaler__with_mean=False, total=   0.4s\n",
      "[CV] clf__C=0.03593813663804626, clf__penalty=l2, clf__random_state=123, scaler__with_mean=True \n",
      "[CV]  clf__C=0.03593813663804626, clf__penalty=l2, clf__random_state=123, scaler__with_mean=False, total=   0.5s\n",
      "[CV] clf__C=0.03593813663804626, clf__penalty=l2, clf__random_state=123, scaler__with_mean=True \n",
      "[CV]  clf__C=0.03593813663804626, clf__penalty=l2, clf__random_state=123, scaler__with_mean=False, total=   0.4s\n",
      "[CV] clf__C=0.03593813663804626, clf__penalty=l2, clf__random_state=123, scaler__with_mean=True \n",
      "[CV]  clf__C=0.03593813663804626, clf__penalty=l1, clf__random_state=123, scaler__with_mean=True, total=   1.4s\n",
      "[CV] clf__C=0.03593813663804626, clf__penalty=l2, clf__random_state=123, scaler__with_mean=True \n",
      "[CV]  clf__C=0.03593813663804626, clf__penalty=l2, clf__random_state=123, scaler__with_mean=True, total=   1.1s\n",
      "[CV] clf__C=0.03593813663804626, clf__penalty=l2, clf__random_state=123, scaler__with_mean=True \n",
      "[CV]  clf__C=0.03593813663804626, clf__penalty=l2, clf__random_state=123, scaler__with_mean=True, total=   1.1s\n",
      "[CV] clf__C=0.2782559402207126, clf__penalty=l1, clf__random_state=123, scaler__with_mean=False \n",
      "[CV]  clf__C=0.03593813663804626, clf__penalty=l2, clf__random_state=123, scaler__with_mean=True, total=   1.2s\n",
      "[CV] clf__C=0.2782559402207126, clf__penalty=l1, clf__random_state=123, scaler__with_mean=False \n",
      "[CV]  clf__C=0.03593813663804626, clf__penalty=l2, clf__random_state=123, scaler__with_mean=True, total=   1.4s\n",
      "[CV]  clf__C=0.2782559402207126, clf__penalty=l1, clf__random_state=123, scaler__with_mean=False, total=   0.4s\n",
      "[CV] clf__C=0.2782559402207126, clf__penalty=l1, clf__random_state=123, scaler__with_mean=False \n",
      "[CV] clf__C=0.2782559402207126, clf__penalty=l1, clf__random_state=123, scaler__with_mean=False \n",
      "[CV]  clf__C=0.2782559402207126, clf__penalty=l1, clf__random_state=123, scaler__with_mean=False, total=   0.5s\n",
      "[CV] clf__C=0.2782559402207126, clf__penalty=l1, clf__random_state=123, scaler__with_mean=False \n",
      "[CV]  clf__C=0.2782559402207126, clf__penalty=l1, clf__random_state=123, scaler__with_mean=False, total=   0.5s\n",
      "[CV]  clf__C=0.2782559402207126, clf__penalty=l1, clf__random_state=123, scaler__with_mean=False, total=   0.5s\n",
      "[CV] clf__C=0.2782559402207126, clf__penalty=l1, clf__random_state=123, scaler__with_mean=True \n",
      "[CV] clf__C=0.2782559402207126, clf__penalty=l1, clf__random_state=123, scaler__with_mean=True \n",
      "[CV]  clf__C=0.03593813663804626, clf__penalty=l2, clf__random_state=123, scaler__with_mean=True, total=   1.4s\n",
      "[CV] clf__C=0.2782559402207126, clf__penalty=l1, clf__random_state=123, scaler__with_mean=True \n",
      "[CV]  clf__C=0.2782559402207126, clf__penalty=l1, clf__random_state=123, scaler__with_mean=False, total=   0.5s\n",
      "[CV] clf__C=0.2782559402207126, clf__penalty=l1, clf__random_state=123, scaler__with_mean=True \n",
      "[CV]  clf__C=0.2782559402207126, clf__penalty=l1, clf__random_state=123, scaler__with_mean=True, total=   0.6s\n",
      "[CV] clf__C=0.2782559402207126, clf__penalty=l1, clf__random_state=123, scaler__with_mean=True \n",
      "[CV]  clf__C=0.2782559402207126, clf__penalty=l1, clf__random_state=123, scaler__with_mean=True, total=   1.0s\n",
      "[CV] clf__C=0.2782559402207126, clf__penalty=l2, clf__random_state=123, scaler__with_mean=False \n",
      "[CV]  clf__C=0.2782559402207126, clf__penalty=l1, clf__random_state=123, scaler__with_mean=True, total=   0.6s\n",
      "[CV] clf__C=0.2782559402207126, clf__penalty=l2, clf__random_state=123, scaler__with_mean=False \n",
      "[CV]  clf__C=0.2782559402207126, clf__penalty=l2, clf__random_state=123, scaler__with_mean=False, total=   0.5s\n",
      "[CV] clf__C=0.2782559402207126, clf__penalty=l2, clf__random_state=123, scaler__with_mean=False \n",
      "[CV]  clf__C=0.2782559402207126, clf__penalty=l2, clf__random_state=123, scaler__with_mean=False, total=   0.5s\n",
      "[CV] clf__C=0.2782559402207126, clf__penalty=l2, clf__random_state=123, scaler__with_mean=False \n",
      "[CV]  clf__C=0.2782559402207126, clf__penalty=l2, clf__random_state=123, scaler__with_mean=False, total=   0.5s\n",
      "[CV] clf__C=0.2782559402207126, clf__penalty=l2, clf__random_state=123, scaler__with_mean=False \n"
     ]
    },
    {
     "name": "stdout",
     "output_type": "stream",
     "text": [
      "[CV]  clf__C=0.2782559402207126, clf__penalty=l2, clf__random_state=123, scaler__with_mean=False, total=   0.5s\n",
      "[CV] clf__C=0.2782559402207126, clf__penalty=l2, clf__random_state=123, scaler__with_mean=True \n",
      "[CV]  clf__C=0.2782559402207126, clf__penalty=l2, clf__random_state=123, scaler__with_mean=False, total=   0.5s\n",
      "[CV] clf__C=0.2782559402207126, clf__penalty=l2, clf__random_state=123, scaler__with_mean=True \n",
      "[CV]  clf__C=0.2782559402207126, clf__penalty=l2, clf__random_state=123, scaler__with_mean=True, total=   1.4s\n",
      "[CV]  clf__C=0.2782559402207126, clf__penalty=l2, clf__random_state=123, scaler__with_mean=True, total=   1.5s\n",
      "[CV] clf__C=0.2782559402207126, clf__penalty=l2, clf__random_state=123, scaler__with_mean=True \n",
      "[CV] clf__C=0.2782559402207126, clf__penalty=l2, clf__random_state=123, scaler__with_mean=True \n",
      "[CV]  clf__C=0.2782559402207126, clf__penalty=l2, clf__random_state=123, scaler__with_mean=True, total=   1.4s\n",
      "[CV] clf__C=0.2782559402207126, clf__penalty=l2, clf__random_state=123, scaler__with_mean=True \n",
      "[CV]  clf__C=0.2782559402207126, clf__penalty=l2, clf__random_state=123, scaler__with_mean=True, total=   1.6s\n",
      "[CV] clf__C=2.154434690031882, clf__penalty=l1, clf__random_state=123, scaler__with_mean=False \n",
      "[CV]  clf__C=2.154434690031882, clf__penalty=l1, clf__random_state=123, scaler__with_mean=False, total=   0.9s\n",
      "[CV] clf__C=2.154434690031882, clf__penalty=l1, clf__random_state=123, scaler__with_mean=False \n",
      "[CV]  clf__C=0.2782559402207126, clf__penalty=l1, clf__random_state=123, scaler__with_mean=True, total=   7.2s\n",
      "[CV] clf__C=2.154434690031882, clf__penalty=l1, clf__random_state=123, scaler__with_mean=False \n",
      "[CV]  clf__C=0.2782559402207126, clf__penalty=l2, clf__random_state=123, scaler__with_mean=True, total=   1.6s\n",
      "[CV] clf__C=2.154434690031882, clf__penalty=l1, clf__random_state=123, scaler__with_mean=False \n",
      "[CV]  clf__C=0.2782559402207126, clf__penalty=l1, clf__random_state=123, scaler__with_mean=True, total=   7.9s\n",
      "[CV] clf__C=2.154434690031882, clf__penalty=l1, clf__random_state=123, scaler__with_mean=False \n",
      "[CV]  clf__C=2.154434690031882, clf__penalty=l1, clf__random_state=123, scaler__with_mean=False, total=   1.0s\n",
      "[CV] clf__C=2.154434690031882, clf__penalty=l1, clf__random_state=123, scaler__with_mean=True \n",
      "[CV]  clf__C=2.154434690031882, clf__penalty=l1, clf__random_state=123, scaler__with_mean=False, total=   1.0s\n",
      "[CV] clf__C=2.154434690031882, clf__penalty=l1, clf__random_state=123, scaler__with_mean=True \n",
      "[CV]  clf__C=2.154434690031882, clf__penalty=l1, clf__random_state=123, scaler__with_mean=True, total=   0.6s\n",
      "[CV] clf__C=2.154434690031882, clf__penalty=l1, clf__random_state=123, scaler__with_mean=True \n",
      "[CV]  clf__C=2.154434690031882, clf__penalty=l1, clf__random_state=123, scaler__with_mean=False, total=   0.7s\n",
      "[CV] clf__C=2.154434690031882, clf__penalty=l1, clf__random_state=123, scaler__with_mean=True \n",
      "[CV]  clf__C=2.154434690031882, clf__penalty=l1, clf__random_state=123, scaler__with_mean=False, total=   1.4s\n",
      "[CV] clf__C=2.154434690031882, clf__penalty=l1, clf__random_state=123, scaler__with_mean=True \n",
      "[CV]  clf__C=2.154434690031882, clf__penalty=l1, clf__random_state=123, scaler__with_mean=True, total=   0.7s\n",
      "[CV] clf__C=2.154434690031882, clf__penalty=l2, clf__random_state=123, scaler__with_mean=False \n",
      "[CV]  clf__C=2.154434690031882, clf__penalty=l1, clf__random_state=123, scaler__with_mean=True, total=   0.6s\n",
      "[CV] clf__C=2.154434690031882, clf__penalty=l2, clf__random_state=123, scaler__with_mean=False \n",
      "[CV]  clf__C=2.154434690031882, clf__penalty=l1, clf__random_state=123, scaler__with_mean=True, total=   0.9s\n",
      "[CV] clf__C=2.154434690031882, clf__penalty=l2, clf__random_state=123, scaler__with_mean=False \n",
      "[CV]  clf__C=2.154434690031882, clf__penalty=l1, clf__random_state=123, scaler__with_mean=True, total=   0.8s\n",
      "[CV] clf__C=2.154434690031882, clf__penalty=l2, clf__random_state=123, scaler__with_mean=False \n",
      "[CV]  clf__C=2.154434690031882, clf__penalty=l2, clf__random_state=123, scaler__with_mean=False, total=   0.7s\n",
      "[CV] clf__C=2.154434690031882, clf__penalty=l2, clf__random_state=123, scaler__with_mean=False \n",
      "[CV]  clf__C=2.154434690031882, clf__penalty=l2, clf__random_state=123, scaler__with_mean=False, total=   0.7s\n",
      "[CV] clf__C=2.154434690031882, clf__penalty=l2, clf__random_state=123, scaler__with_mean=True \n",
      "[CV]  clf__C=2.154434690031882, clf__penalty=l2, clf__random_state=123, scaler__with_mean=False, total=   0.8s\n",
      "[CV] clf__C=2.154434690031882, clf__penalty=l2, clf__random_state=123, scaler__with_mean=True \n",
      "[CV]  clf__C=2.154434690031882, clf__penalty=l2, clf__random_state=123, scaler__with_mean=False, total=   0.7s\n",
      "[CV] clf__C=2.154434690031882, clf__penalty=l2, clf__random_state=123, scaler__with_mean=True \n",
      "[CV]  clf__C=2.154434690031882, clf__penalty=l2, clf__random_state=123, scaler__with_mean=False, total=   0.8s\n",
      "[CV] clf__C=2.154434690031882, clf__penalty=l2, clf__random_state=123, scaler__with_mean=True \n",
      "[CV]  clf__C=2.154434690031882, clf__penalty=l2, clf__random_state=123, scaler__with_mean=True, total=   2.1s\n",
      "[CV] clf__C=2.154434690031882, clf__penalty=l2, clf__random_state=123, scaler__with_mean=True \n",
      "[CV]  clf__C=2.154434690031882, clf__penalty=l2, clf__random_state=123, scaler__with_mean=True, total=   1.9s\n",
      "[CV] clf__C=16.681005372000556, clf__penalty=l1, clf__random_state=123, scaler__with_mean=False \n",
      "[CV]  clf__C=16.681005372000556, clf__penalty=l1, clf__random_state=123, scaler__with_mean=False, total=   0.3s\n",
      "[CV] clf__C=16.681005372000556, clf__penalty=l1, clf__random_state=123, scaler__with_mean=False \n",
      "[CV]  clf__C=2.154434690031882, clf__penalty=l2, clf__random_state=123, scaler__with_mean=True, total=   2.0s\n",
      "[CV]  clf__C=2.154434690031882, clf__penalty=l2, clf__random_state=123, scaler__with_mean=True, total=   2.3s\n",
      "[CV] clf__C=16.681005372000556, clf__penalty=l1, clf__random_state=123, scaler__with_mean=False \n",
      "[CV] clf__C=16.681005372000556, clf__penalty=l1, clf__random_state=123, scaler__with_mean=False \n",
      "[CV]  clf__C=16.681005372000556, clf__penalty=l1, clf__random_state=123, scaler__with_mean=False, total=   0.3s\n",
      "[CV] clf__C=16.681005372000556, clf__penalty=l1, clf__random_state=123, scaler__with_mean=False \n",
      "[CV]  clf__C=16.681005372000556, clf__penalty=l1, clf__random_state=123, scaler__with_mean=False, total=   0.3s\n",
      "[CV] clf__C=16.681005372000556, clf__penalty=l1, clf__random_state=123, scaler__with_mean=True \n",
      "[CV]  clf__C=16.681005372000556, clf__penalty=l1, clf__random_state=123, scaler__with_mean=False, total=   0.3s\n",
      "[CV] clf__C=16.681005372000556, clf__penalty=l1, clf__random_state=123, scaler__with_mean=True \n",
      "[CV]  clf__C=16.681005372000556, clf__penalty=l1, clf__random_state=123, scaler__with_mean=False, total=   0.4s\n",
      "[CV] clf__C=16.681005372000556, clf__penalty=l1, clf__random_state=123, scaler__with_mean=True \n",
      "[CV]  clf__C=16.681005372000556, clf__penalty=l1, clf__random_state=123, scaler__with_mean=True, total=   0.6s\n",
      "[CV] clf__C=16.681005372000556, clf__penalty=l1, clf__random_state=123, scaler__with_mean=True \n",
      "[CV]  clf__C=16.681005372000556, clf__penalty=l1, clf__random_state=123, scaler__with_mean=True, total=   0.6s\n",
      "[CV] clf__C=16.681005372000556, clf__penalty=l1, clf__random_state=123, scaler__with_mean=True \n",
      "[CV]  clf__C=16.681005372000556, clf__penalty=l1, clf__random_state=123, scaler__with_mean=True, total=   0.7s\n",
      "[CV] clf__C=16.681005372000556, clf__penalty=l2, clf__random_state=123, scaler__with_mean=False \n",
      "[CV]  clf__C=2.154434690031882, clf__penalty=l2, clf__random_state=123, scaler__with_mean=True, total=   2.3s\n",
      "[CV] clf__C=16.681005372000556, clf__penalty=l2, clf__random_state=123, scaler__with_mean=False \n",
      "[CV]  clf__C=16.681005372000556, clf__penalty=l1, clf__random_state=123, scaler__with_mean=True, total=   0.8s\n",
      "[CV] clf__C=16.681005372000556, clf__penalty=l2, clf__random_state=123, scaler__with_mean=False \n",
      "[CV]  clf__C=16.681005372000556, clf__penalty=l1, clf__random_state=123, scaler__with_mean=True, total=   0.8s\n",
      "[CV] clf__C=16.681005372000556, clf__penalty=l2, clf__random_state=123, scaler__with_mean=False \n",
      "[CV]  clf__C=16.681005372000556, clf__penalty=l2, clf__random_state=123, scaler__with_mean=False, total=   0.7s\n",
      "[CV] clf__C=16.681005372000556, clf__penalty=l2, clf__random_state=123, scaler__with_mean=False \n"
     ]
    },
    {
     "name": "stdout",
     "output_type": "stream",
     "text": [
      "[CV]  clf__C=16.681005372000556, clf__penalty=l2, clf__random_state=123, scaler__with_mean=False, total=   0.8s\n",
      "[CV] clf__C=16.681005372000556, clf__penalty=l2, clf__random_state=123, scaler__with_mean=True \n",
      "[CV]  clf__C=16.681005372000556, clf__penalty=l2, clf__random_state=123, scaler__with_mean=False, total=   0.8s\n",
      "[CV] clf__C=16.681005372000556, clf__penalty=l2, clf__random_state=123, scaler__with_mean=True \n",
      "[CV]  clf__C=16.681005372000556, clf__penalty=l2, clf__random_state=123, scaler__with_mean=False, total=   0.7s\n",
      "[CV] clf__C=16.681005372000556, clf__penalty=l2, clf__random_state=123, scaler__with_mean=True \n",
      "[CV]  clf__C=16.681005372000556, clf__penalty=l2, clf__random_state=123, scaler__with_mean=False, total=   0.9s\n",
      "[CV] clf__C=16.681005372000556, clf__penalty=l2, clf__random_state=123, scaler__with_mean=True \n"
     ]
    },
    {
     "name": "stderr",
     "output_type": "stream",
     "text": [
      "[Parallel(n_jobs=-1)]: Done 154 tasks      | elapsed:   31.4s\n"
     ]
    },
    {
     "name": "stdout",
     "output_type": "stream",
     "text": [
      "[CV]  clf__C=16.681005372000556, clf__penalty=l2, clf__random_state=123, scaler__with_mean=True, total=   2.3s\n",
      "[CV] clf__C=16.681005372000556, clf__penalty=l2, clf__random_state=123, scaler__with_mean=True \n",
      "[CV]  clf__C=16.681005372000556, clf__penalty=l2, clf__random_state=123, scaler__with_mean=True, total=   2.6s\n",
      "[CV] clf__C=129.15496650148827, clf__penalty=l1, clf__random_state=123, scaler__with_mean=False \n",
      "[CV]  clf__C=16.681005372000556, clf__penalty=l2, clf__random_state=123, scaler__with_mean=True, total=   2.9s\n",
      "[CV] clf__C=129.15496650148827, clf__penalty=l1, clf__random_state=123, scaler__with_mean=False \n",
      "[CV]  clf__C=16.681005372000556, clf__penalty=l2, clf__random_state=123, scaler__with_mean=True, total=   2.8s\n",
      "[CV] clf__C=129.15496650148827, clf__penalty=l1, clf__random_state=123, scaler__with_mean=False \n",
      "[CV]  clf__C=129.15496650148827, clf__penalty=l1, clf__random_state=123, scaler__with_mean=False, total=   0.3s\n",
      "[CV] clf__C=129.15496650148827, clf__penalty=l1, clf__random_state=123, scaler__with_mean=False \n",
      "[CV]  clf__C=129.15496650148827, clf__penalty=l1, clf__random_state=123, scaler__with_mean=False, total=   0.3s\n",
      "[CV] clf__C=129.15496650148827, clf__penalty=l1, clf__random_state=123, scaler__with_mean=False \n",
      "[CV]  clf__C=129.15496650148827, clf__penalty=l1, clf__random_state=123, scaler__with_mean=False, total=   0.3s\n",
      "[CV] clf__C=129.15496650148827, clf__penalty=l1, clf__random_state=123, scaler__with_mean=True \n",
      "[CV]  clf__C=129.15496650148827, clf__penalty=l1, clf__random_state=123, scaler__with_mean=False, total=   0.3s\n",
      "[CV] clf__C=129.15496650148827, clf__penalty=l1, clf__random_state=123, scaler__with_mean=True \n",
      "[CV]  clf__C=129.15496650148827, clf__penalty=l1, clf__random_state=123, scaler__with_mean=False, total=   0.3s\n",
      "[CV] clf__C=129.15496650148827, clf__penalty=l1, clf__random_state=123, scaler__with_mean=True \n",
      "[CV]  clf__C=129.15496650148827, clf__penalty=l1, clf__random_state=123, scaler__with_mean=True, total=   0.6s\n",
      "[CV] clf__C=129.15496650148827, clf__penalty=l1, clf__random_state=123, scaler__with_mean=True \n",
      "[CV]  clf__C=129.15496650148827, clf__penalty=l1, clf__random_state=123, scaler__with_mean=True, total=   0.6s\n",
      "[CV] clf__C=129.15496650148827, clf__penalty=l1, clf__random_state=123, scaler__with_mean=True \n",
      "[CV]  clf__C=129.15496650148827, clf__penalty=l1, clf__random_state=123, scaler__with_mean=True, total=   1.0s\n",
      "[CV] clf__C=129.15496650148827, clf__penalty=l2, clf__random_state=123, scaler__with_mean=False \n",
      "[CV]  clf__C=16.681005372000556, clf__penalty=l2, clf__random_state=123, scaler__with_mean=True, total=   2.2s\n",
      "[CV] clf__C=129.15496650148827, clf__penalty=l2, clf__random_state=123, scaler__with_mean=False \n",
      "[CV]  clf__C=129.15496650148827, clf__penalty=l1, clf__random_state=123, scaler__with_mean=True, total=   0.8s\n",
      "[CV] clf__C=129.15496650148827, clf__penalty=l2, clf__random_state=123, scaler__with_mean=False \n",
      "[CV]  clf__C=129.15496650148827, clf__penalty=l1, clf__random_state=123, scaler__with_mean=True, total=   0.8s\n",
      "[CV] clf__C=129.15496650148827, clf__penalty=l2, clf__random_state=123, scaler__with_mean=False \n",
      "[CV]  clf__C=129.15496650148827, clf__penalty=l2, clf__random_state=123, scaler__with_mean=False, total=   0.7s\n",
      "[CV] clf__C=129.15496650148827, clf__penalty=l2, clf__random_state=123, scaler__with_mean=False \n",
      "[CV]  clf__C=129.15496650148827, clf__penalty=l2, clf__random_state=123, scaler__with_mean=False, total=   0.9s\n",
      "[CV] clf__C=129.15496650148827, clf__penalty=l2, clf__random_state=123, scaler__with_mean=True \n",
      "[CV]  clf__C=129.15496650148827, clf__penalty=l2, clf__random_state=123, scaler__with_mean=False, total=   0.9s\n",
      "[CV] clf__C=129.15496650148827, clf__penalty=l2, clf__random_state=123, scaler__with_mean=True \n",
      "[CV]  clf__C=129.15496650148827, clf__penalty=l2, clf__random_state=123, scaler__with_mean=False, total=   1.0s\n",
      "[CV] clf__C=129.15496650148827, clf__penalty=l2, clf__random_state=123, scaler__with_mean=True \n",
      "[CV]  clf__C=129.15496650148827, clf__penalty=l2, clf__random_state=123, scaler__with_mean=False, total=   0.8s\n",
      "[CV] clf__C=129.15496650148827, clf__penalty=l2, clf__random_state=123, scaler__with_mean=True \n",
      "[CV]  clf__C=129.15496650148827, clf__penalty=l2, clf__random_state=123, scaler__with_mean=True, total=   2.3s\n",
      "[CV] clf__C=129.15496650148827, clf__penalty=l2, clf__random_state=123, scaler__with_mean=True \n",
      "[CV]  clf__C=129.15496650148827, clf__penalty=l2, clf__random_state=123, scaler__with_mean=True, total=   2.6s\n",
      "[CV] clf__C=1000.0, clf__penalty=l1, clf__random_state=123, scaler__with_mean=False \n",
      "[CV]  clf__C=129.15496650148827, clf__penalty=l2, clf__random_state=123, scaler__with_mean=True, total=   2.9s\n",
      "[CV] clf__C=1000.0, clf__penalty=l1, clf__random_state=123, scaler__with_mean=False \n",
      "[CV]  clf__C=129.15496650148827, clf__penalty=l2, clf__random_state=123, scaler__with_mean=True, total=   2.7s\n",
      "[CV] clf__C=1000.0, clf__penalty=l1, clf__random_state=123, scaler__with_mean=False \n",
      "[CV]  clf__C=1000.0, clf__penalty=l1, clf__random_state=123, scaler__with_mean=False, total=   0.3s\n",
      "[CV]  clf__C=1000.0, clf__penalty=l1, clf__random_state=123, scaler__with_mean=False, total=   0.3s\n",
      "[CV] clf__C=1000.0, clf__penalty=l1, clf__random_state=123, scaler__with_mean=False \n",
      "[CV] clf__C=1000.0, clf__penalty=l1, clf__random_state=123, scaler__with_mean=False \n",
      "[CV]  clf__C=1000.0, clf__penalty=l1, clf__random_state=123, scaler__with_mean=False, total=   0.4s\n",
      "[CV]  clf__C=1000.0, clf__penalty=l1, clf__random_state=123, scaler__with_mean=False, total=   0.3s\n",
      "[CV] clf__C=1000.0, clf__penalty=l1, clf__random_state=123, scaler__with_mean=True \n",
      "[CV] clf__C=1000.0, clf__penalty=l1, clf__random_state=123, scaler__with_mean=True \n",
      "[CV]  clf__C=1000.0, clf__penalty=l1, clf__random_state=123, scaler__with_mean=False, total=   0.4s\n",
      "[CV] clf__C=1000.0, clf__penalty=l1, clf__random_state=123, scaler__with_mean=True \n",
      "[CV]  clf__C=1000.0, clf__penalty=l1, clf__random_state=123, scaler__with_mean=True, total=   0.6s\n",
      "[CV] clf__C=1000.0, clf__penalty=l1, clf__random_state=123, scaler__with_mean=True \n",
      "[CV]  clf__C=1000.0, clf__penalty=l1, clf__random_state=123, scaler__with_mean=True, total=   0.7s\n",
      "[CV]  clf__C=1000.0, clf__penalty=l1, clf__random_state=123, scaler__with_mean=True, total=   0.6s\n",
      "[CV] clf__C=1000.0, clf__penalty=l1, clf__random_state=123, scaler__with_mean=True \n",
      "[CV] clf__C=1000.0, clf__penalty=l2, clf__random_state=123, scaler__with_mean=False \n",
      "[CV]  clf__C=129.15496650148827, clf__penalty=l2, clf__random_state=123, scaler__with_mean=True, total=   2.2s\n",
      "[CV] clf__C=1000.0, clf__penalty=l2, clf__random_state=123, scaler__with_mean=False \n",
      "[CV]  clf__C=1000.0, clf__penalty=l1, clf__random_state=123, scaler__with_mean=True, total=   0.8s\n",
      "[CV] clf__C=1000.0, clf__penalty=l2, clf__random_state=123, scaler__with_mean=False \n",
      "[CV]  clf__C=1000.0, clf__penalty=l2, clf__random_state=123, scaler__with_mean=False, total=   0.7s\n",
      "[CV] clf__C=1000.0, clf__penalty=l2, clf__random_state=123, scaler__with_mean=False \n",
      "[CV]  clf__C=1000.0, clf__penalty=l1, clf__random_state=123, scaler__with_mean=True, total=   0.8s\n",
      "[CV] clf__C=1000.0, clf__penalty=l2, clf__random_state=123, scaler__with_mean=False \n",
      "[CV]  clf__C=1000.0, clf__penalty=l2, clf__random_state=123, scaler__with_mean=False, total=   0.8s\n",
      "[CV] clf__C=1000.0, clf__penalty=l2, clf__random_state=123, scaler__with_mean=True \n",
      "[CV]  clf__C=1000.0, clf__penalty=l2, clf__random_state=123, scaler__with_mean=False, total=   0.8s\n",
      "[CV] clf__C=1000.0, clf__penalty=l2, clf__random_state=123, scaler__with_mean=True \n",
      "[CV]  clf__C=1000.0, clf__penalty=l2, clf__random_state=123, scaler__with_mean=False, total=   0.7s\n",
      "[CV] clf__C=1000.0, clf__penalty=l2, clf__random_state=123, scaler__with_mean=True \n",
      "[CV]  clf__C=1000.0, clf__penalty=l2, clf__random_state=123, scaler__with_mean=False, total=   0.9s\n",
      "[CV] clf__C=1000.0, clf__penalty=l2, clf__random_state=123, scaler__with_mean=True \n",
      "[CV]  clf__C=1000.0, clf__penalty=l2, clf__random_state=123, scaler__with_mean=True, total=   2.3s\n",
      "[CV] clf__C=1000.0, clf__penalty=l2, clf__random_state=123, scaler__with_mean=True \n",
      "[CV]  clf__C=1000.0, clf__penalty=l2, clf__random_state=123, scaler__with_mean=True, total=   2.6s\n"
     ]
    },
    {
     "name": "stdout",
     "output_type": "stream",
     "text": [
      "[CV]  clf__C=1000.0, clf__penalty=l2, clf__random_state=123, scaler__with_mean=True, total=   2.9s\n",
      "[CV]  clf__C=1000.0, clf__penalty=l2, clf__random_state=123, scaler__with_mean=True, total=   2.5s\n",
      "[CV]  clf__C=1000.0, clf__penalty=l2, clf__random_state=123, scaler__with_mean=True, total=   1.4s\n"
     ]
    },
    {
     "name": "stderr",
     "output_type": "stream",
     "text": [
      "[Parallel(n_jobs=-1)]: Done 200 out of 200 | elapsed:   47.2s finished\n"
     ]
    },
    {
     "data": {
      "text/plain": [
       "GridSearchCV(cv=StratifiedKFold(n_splits=5, random_state=123, shuffle=True),\n",
       "       error_score='raise',\n",
       "       estimator=Pipeline(memory=None,\n",
       "     steps=[('scaler', StandardScaler(copy=True, with_mean=True, with_std=True)), ('clf', LogisticRegression(C=1.0, class_weight=None, dual=False, fit_intercept=True,\n",
       "          intercept_scaling=1, max_iter=100, multi_class='ovr', n_jobs=1,\n",
       "          penalty='l2', random_state=None, solver='liblinear', tol=0.0001,\n",
       "          verbose=0, warm_start=False))]),\n",
       "       fit_params=None, iid=True, n_jobs=-1,\n",
       "       param_grid={'scaler__with_mean': [False, True], 'clf__penalty': ['l1', 'l2'], 'clf__random_state': [123], 'clf__C': array([1.00000e-05, 7.74264e-05, 5.99484e-04, 4.64159e-03, 3.59381e-02,\n",
       "       2.78256e-01, 2.15443e+00, 1.66810e+01, 1.29155e+02, 1.00000e+03])},\n",
       "       pre_dispatch='2*n_jobs', refit=True, return_train_score='warn',\n",
       "       scoring='roc_auc', verbose=2)"
      ]
     },
     "execution_count": 19,
     "metadata": {},
     "output_type": "execute_result"
    }
   ],
   "source": [
    "grid_searcher = GridSearchCV(model, param_grid, \n",
    "                             scoring='roc_auc', \n",
    "                             n_jobs=-1, cv=cv, \n",
    "                             verbose=2)\n",
    "\n",
    "grid_searcher.fit(X, y)"
   ]
  },
  {
   "cell_type": "markdown",
   "metadata": {},
   "source": [
    "На выходе в grid_searcher можно посмотреть, какая комбинация оказалась наилучшей, сколько занял рачет и напрямую достать лучшую модель."
   ]
  },
  {
   "cell_type": "code",
   "execution_count": 20,
   "metadata": {},
   "outputs": [
    {
     "data": {
      "text/plain": [
       "{'clf__C': 0.03593813663804626,\n",
       " 'clf__penalty': 'l1',\n",
       " 'clf__random_state': 123,\n",
       " 'scaler__with_mean': True}"
      ]
     },
     "execution_count": 20,
     "metadata": {},
     "output_type": "execute_result"
    }
   ],
   "source": [
    "grid_searcher.best_params_"
   ]
  },
  {
   "cell_type": "code",
   "execution_count": 21,
   "metadata": {},
   "outputs": [
    {
     "data": {
      "text/plain": [
       "0.8333642764153399"
      ]
     },
     "execution_count": 21,
     "metadata": {},
     "output_type": "execute_result"
    }
   ],
   "source": [
    "grid_searcher.best_score_"
   ]
  },
  {
   "cell_type": "code",
   "execution_count": 22,
   "metadata": {},
   "outputs": [
    {
     "name": "stderr",
     "output_type": "stream",
     "text": [
      "/Library/Frameworks/Python.framework/Versions/3.6/lib/python3.6/site-packages/sklearn/utils/deprecation.py:122: FutureWarning: You are accessing a training score ('mean_train_score'), which will not be available by default any more in 0.21. If you need training scores, please set return_train_score=True\n",
      "  warnings.warn(*warn_args, **warn_kwargs)\n",
      "/Library/Frameworks/Python.framework/Versions/3.6/lib/python3.6/site-packages/sklearn/utils/deprecation.py:122: FutureWarning: You are accessing a training score ('split0_train_score'), which will not be available by default any more in 0.21. If you need training scores, please set return_train_score=True\n",
      "  warnings.warn(*warn_args, **warn_kwargs)\n",
      "/Library/Frameworks/Python.framework/Versions/3.6/lib/python3.6/site-packages/sklearn/utils/deprecation.py:122: FutureWarning: You are accessing a training score ('split1_train_score'), which will not be available by default any more in 0.21. If you need training scores, please set return_train_score=True\n",
      "  warnings.warn(*warn_args, **warn_kwargs)\n",
      "/Library/Frameworks/Python.framework/Versions/3.6/lib/python3.6/site-packages/sklearn/utils/deprecation.py:122: FutureWarning: You are accessing a training score ('split2_train_score'), which will not be available by default any more in 0.21. If you need training scores, please set return_train_score=True\n",
      "  warnings.warn(*warn_args, **warn_kwargs)\n",
      "/Library/Frameworks/Python.framework/Versions/3.6/lib/python3.6/site-packages/sklearn/utils/deprecation.py:122: FutureWarning: You are accessing a training score ('split3_train_score'), which will not be available by default any more in 0.21. If you need training scores, please set return_train_score=True\n",
      "  warnings.warn(*warn_args, **warn_kwargs)\n",
      "/Library/Frameworks/Python.framework/Versions/3.6/lib/python3.6/site-packages/sklearn/utils/deprecation.py:122: FutureWarning: You are accessing a training score ('split4_train_score'), which will not be available by default any more in 0.21. If you need training scores, please set return_train_score=True\n",
      "  warnings.warn(*warn_args, **warn_kwargs)\n",
      "/Library/Frameworks/Python.framework/Versions/3.6/lib/python3.6/site-packages/sklearn/utils/deprecation.py:122: FutureWarning: You are accessing a training score ('std_train_score'), which will not be available by default any more in 0.21. If you need training scores, please set return_train_score=True\n",
      "  warnings.warn(*warn_args, **warn_kwargs)\n"
     ]
    }
   ],
   "source": [
    "results = pd.DataFrame(grid_searcher.cv_results_)"
   ]
  },
  {
   "cell_type": "code",
   "execution_count": 23,
   "metadata": {},
   "outputs": [
    {
     "data": {
      "text/html": [
       "<div>\n",
       "<style scoped>\n",
       "    .dataframe tbody tr th:only-of-type {\n",
       "        vertical-align: middle;\n",
       "    }\n",
       "\n",
       "    .dataframe tbody tr th {\n",
       "        vertical-align: top;\n",
       "    }\n",
       "\n",
       "    .dataframe thead th {\n",
       "        text-align: right;\n",
       "    }\n",
       "</style>\n",
       "<table border=\"1\" class=\"dataframe\">\n",
       "  <thead>\n",
       "    <tr style=\"text-align: right;\">\n",
       "      <th></th>\n",
       "      <th>mean_fit_time</th>\n",
       "      <th>mean_score_time</th>\n",
       "      <th>mean_test_score</th>\n",
       "      <th>mean_train_score</th>\n",
       "      <th>param_clf__C</th>\n",
       "      <th>param_clf__penalty</th>\n",
       "      <th>param_clf__random_state</th>\n",
       "      <th>param_scaler__with_mean</th>\n",
       "      <th>params</th>\n",
       "      <th>rank_test_score</th>\n",
       "      <th>...</th>\n",
       "      <th>split2_test_score</th>\n",
       "      <th>split2_train_score</th>\n",
       "      <th>split3_test_score</th>\n",
       "      <th>split3_train_score</th>\n",
       "      <th>split4_test_score</th>\n",
       "      <th>split4_train_score</th>\n",
       "      <th>std_fit_time</th>\n",
       "      <th>std_score_time</th>\n",
       "      <th>std_test_score</th>\n",
       "      <th>std_train_score</th>\n",
       "    </tr>\n",
       "  </thead>\n",
       "  <tbody>\n",
       "    <tr>\n",
       "      <th>0</th>\n",
       "      <td>0.286821</td>\n",
       "      <td>0.017967</td>\n",
       "      <td>0.500000</td>\n",
       "      <td>0.500000</td>\n",
       "      <td>1e-05</td>\n",
       "      <td>l1</td>\n",
       "      <td>123</td>\n",
       "      <td>False</td>\n",
       "      <td>{'clf__C': 1e-05, 'clf__penalty': 'l1', 'clf__...</td>\n",
       "      <td>36</td>\n",
       "      <td>...</td>\n",
       "      <td>0.500000</td>\n",
       "      <td>0.500000</td>\n",
       "      <td>0.500000</td>\n",
       "      <td>0.500000</td>\n",
       "      <td>0.500000</td>\n",
       "      <td>0.500000</td>\n",
       "      <td>0.038138</td>\n",
       "      <td>0.006594</td>\n",
       "      <td>0.000000</td>\n",
       "      <td>0.000000</td>\n",
       "    </tr>\n",
       "    <tr>\n",
       "      <th>1</th>\n",
       "      <td>0.382260</td>\n",
       "      <td>0.015225</td>\n",
       "      <td>0.500000</td>\n",
       "      <td>0.500000</td>\n",
       "      <td>1e-05</td>\n",
       "      <td>l1</td>\n",
       "      <td>123</td>\n",
       "      <td>True</td>\n",
       "      <td>{'clf__C': 1e-05, 'clf__penalty': 'l1', 'clf__...</td>\n",
       "      <td>36</td>\n",
       "      <td>...</td>\n",
       "      <td>0.500000</td>\n",
       "      <td>0.500000</td>\n",
       "      <td>0.500000</td>\n",
       "      <td>0.500000</td>\n",
       "      <td>0.500000</td>\n",
       "      <td>0.500000</td>\n",
       "      <td>0.032490</td>\n",
       "      <td>0.003912</td>\n",
       "      <td>0.000000</td>\n",
       "      <td>0.000000</td>\n",
       "    </tr>\n",
       "    <tr>\n",
       "      <th>2</th>\n",
       "      <td>0.262715</td>\n",
       "      <td>0.010720</td>\n",
       "      <td>0.793321</td>\n",
       "      <td>0.799113</td>\n",
       "      <td>1e-05</td>\n",
       "      <td>l2</td>\n",
       "      <td>123</td>\n",
       "      <td>False</td>\n",
       "      <td>{'clf__C': 1e-05, 'clf__penalty': 'l2', 'clf__...</td>\n",
       "      <td>34</td>\n",
       "      <td>...</td>\n",
       "      <td>0.790877</td>\n",
       "      <td>0.800359</td>\n",
       "      <td>0.790852</td>\n",
       "      <td>0.796988</td>\n",
       "      <td>0.796070</td>\n",
       "      <td>0.800062</td>\n",
       "      <td>0.006274</td>\n",
       "      <td>0.002127</td>\n",
       "      <td>0.006108</td>\n",
       "      <td>0.001423</td>\n",
       "    </tr>\n",
       "    <tr>\n",
       "      <th>3</th>\n",
       "      <td>0.410354</td>\n",
       "      <td>0.011540</td>\n",
       "      <td>0.797828</td>\n",
       "      <td>0.804185</td>\n",
       "      <td>1e-05</td>\n",
       "      <td>l2</td>\n",
       "      <td>123</td>\n",
       "      <td>True</td>\n",
       "      <td>{'clf__C': 1e-05, 'clf__penalty': 'l2', 'clf__...</td>\n",
       "      <td>33</td>\n",
       "      <td>...</td>\n",
       "      <td>0.805513</td>\n",
       "      <td>0.808778</td>\n",
       "      <td>0.784124</td>\n",
       "      <td>0.799038</td>\n",
       "      <td>0.805717</td>\n",
       "      <td>0.803717</td>\n",
       "      <td>0.016435</td>\n",
       "      <td>0.001696</td>\n",
       "      <td>0.010103</td>\n",
       "      <td>0.004604</td>\n",
       "    </tr>\n",
       "    <tr>\n",
       "      <th>4</th>\n",
       "      <td>0.213208</td>\n",
       "      <td>0.009555</td>\n",
       "      <td>0.500000</td>\n",
       "      <td>0.500000</td>\n",
       "      <td>7.74264e-05</td>\n",
       "      <td>l1</td>\n",
       "      <td>123</td>\n",
       "      <td>False</td>\n",
       "      <td>{'clf__C': 7.742636826811278e-05, 'clf__penalt...</td>\n",
       "      <td>36</td>\n",
       "      <td>...</td>\n",
       "      <td>0.500000</td>\n",
       "      <td>0.500000</td>\n",
       "      <td>0.500000</td>\n",
       "      <td>0.500000</td>\n",
       "      <td>0.500000</td>\n",
       "      <td>0.500000</td>\n",
       "      <td>0.019412</td>\n",
       "      <td>0.001517</td>\n",
       "      <td>0.000000</td>\n",
       "      <td>0.000000</td>\n",
       "    </tr>\n",
       "  </tbody>\n",
       "</table>\n",
       "<p>5 rows × 24 columns</p>\n",
       "</div>"
      ],
      "text/plain": [
       "   mean_fit_time  mean_score_time  mean_test_score  mean_train_score  \\\n",
       "0       0.286821         0.017967         0.500000          0.500000   \n",
       "1       0.382260         0.015225         0.500000          0.500000   \n",
       "2       0.262715         0.010720         0.793321          0.799113   \n",
       "3       0.410354         0.011540         0.797828          0.804185   \n",
       "4       0.213208         0.009555         0.500000          0.500000   \n",
       "\n",
       "  param_clf__C param_clf__penalty param_clf__random_state  \\\n",
       "0        1e-05                 l1                     123   \n",
       "1        1e-05                 l1                     123   \n",
       "2        1e-05                 l2                     123   \n",
       "3        1e-05                 l2                     123   \n",
       "4  7.74264e-05                 l1                     123   \n",
       "\n",
       "  param_scaler__with_mean                                             params  \\\n",
       "0                   False  {'clf__C': 1e-05, 'clf__penalty': 'l1', 'clf__...   \n",
       "1                    True  {'clf__C': 1e-05, 'clf__penalty': 'l1', 'clf__...   \n",
       "2                   False  {'clf__C': 1e-05, 'clf__penalty': 'l2', 'clf__...   \n",
       "3                    True  {'clf__C': 1e-05, 'clf__penalty': 'l2', 'clf__...   \n",
       "4                   False  {'clf__C': 7.742636826811278e-05, 'clf__penalt...   \n",
       "\n",
       "   rank_test_score       ...         split2_test_score  split2_train_score  \\\n",
       "0               36       ...                  0.500000            0.500000   \n",
       "1               36       ...                  0.500000            0.500000   \n",
       "2               34       ...                  0.790877            0.800359   \n",
       "3               33       ...                  0.805513            0.808778   \n",
       "4               36       ...                  0.500000            0.500000   \n",
       "\n",
       "   split3_test_score  split3_train_score  split4_test_score  \\\n",
       "0           0.500000            0.500000           0.500000   \n",
       "1           0.500000            0.500000           0.500000   \n",
       "2           0.790852            0.796988           0.796070   \n",
       "3           0.784124            0.799038           0.805717   \n",
       "4           0.500000            0.500000           0.500000   \n",
       "\n",
       "   split4_train_score  std_fit_time  std_score_time  std_test_score  \\\n",
       "0            0.500000      0.038138        0.006594        0.000000   \n",
       "1            0.500000      0.032490        0.003912        0.000000   \n",
       "2            0.800062      0.006274        0.002127        0.006108   \n",
       "3            0.803717      0.016435        0.001696        0.010103   \n",
       "4            0.500000      0.019412        0.001517        0.000000   \n",
       "\n",
       "   std_train_score  \n",
       "0         0.000000  \n",
       "1         0.000000  \n",
       "2         0.001423  \n",
       "3         0.004604  \n",
       "4         0.000000  \n",
       "\n",
       "[5 rows x 24 columns]"
      ]
     },
     "execution_count": 23,
     "metadata": {},
     "output_type": "execute_result"
    }
   ],
   "source": [
    "results.head()"
   ]
  },
  {
   "cell_type": "code",
   "execution_count": 24,
   "metadata": {},
   "outputs": [],
   "source": [
    "best_model = grid_searcher.best_estimator_"
   ]
  },
  {
   "cell_type": "markdown",
   "metadata": {},
   "source": [
    "#### Random Search"
   ]
  },
  {
   "cell_type": "code",
   "execution_count": 28,
   "metadata": {},
   "outputs": [],
   "source": [
    "from scipy.stats import randint as sp_randint\n",
    "from scipy.stats import lognorm as sp_lognorm"
   ]
  },
  {
   "cell_type": "code",
   "execution_count": 26,
   "metadata": {},
   "outputs": [
    {
     "data": {
      "text/plain": [
       "0.03771830695136743"
      ]
     },
     "execution_count": 26,
     "metadata": {},
     "output_type": "execute_result"
    }
   ],
   "source": [
    "sp_lognorm(4).rvs()"
   ]
  },
  {
   "cell_type": "code",
   "execution_count": 27,
   "metadata": {},
   "outputs": [
    {
     "name": "stdout",
     "output_type": "stream",
     "text": [
      "{'scaler__with_mean': [False, True], 'clf__penalty': ['l1', 'l2'], 'clf__random_state': [123], 'clf__C': <scipy.stats._distn_infrastructure.rv_frozen object at 0x1b9ee1d30>}\n"
     ]
    }
   ],
   "source": [
    "# Задаем значения параметров, которые хотим проверить\n",
    "# Теперь с распределениями\n",
    "param_grid = {\n",
    "    'scaler__with_mean': [False, True],\n",
    "    'clf__penalty': ['l1', 'l2'],\n",
    "    'clf__random_state': [RND_SEED],\n",
    "    'clf__C': sp_lognorm(4)\n",
    "}\n",
    "\n",
    "print(param_grid)"
   ]
  },
  {
   "cell_type": "code",
   "execution_count": 28,
   "metadata": {
    "scrolled": true
   },
   "outputs": [
    {
     "name": "stdout",
     "output_type": "stream",
     "text": [
      "Fitting 5 folds for each of 20 candidates, totalling 100 fits\n",
      "[CV] clf__C=0.013003686130638284, clf__penalty=l1, clf__random_state=123, scaler__with_mean=False \n",
      "[CV] clf__C=0.013003686130638284, clf__penalty=l1, clf__random_state=123, scaler__with_mean=False \n",
      "[CV] clf__C=0.013003686130638284, clf__penalty=l1, clf__random_state=123, scaler__with_mean=False \n",
      "[CV] clf__C=0.013003686130638284, clf__penalty=l1, clf__random_state=123, scaler__with_mean=False \n",
      "[CV]  clf__C=0.013003686130638284, clf__penalty=l1, clf__random_state=123, scaler__with_mean=False, total=   0.5s\n",
      "[CV]  clf__C=0.013003686130638284, clf__penalty=l1, clf__random_state=123, scaler__with_mean=False, total=   0.5s\n",
      "[CV]  clf__C=0.013003686130638284, clf__penalty=l1, clf__random_state=123, scaler__with_mean=False, total=   0.5s\n",
      "[CV]  clf__C=0.013003686130638284, clf__penalty=l1, clf__random_state=123, scaler__with_mean=False, total=   0.5s\n",
      "[CV] clf__C=0.013003686130638284, clf__penalty=l1, clf__random_state=123, scaler__with_mean=False \n",
      "[CV] clf__C=54.02148221946703, clf__penalty=l1, clf__random_state=123, scaler__with_mean=True \n",
      "[CV] clf__C=54.02148221946703, clf__penalty=l1, clf__random_state=123, scaler__with_mean=True \n",
      "[CV] clf__C=54.02148221946703, clf__penalty=l1, clf__random_state=123, scaler__with_mean=True \n",
      "[CV]  clf__C=0.013003686130638284, clf__penalty=l1, clf__random_state=123, scaler__with_mean=False, total=   0.4s\n",
      "[CV] clf__C=54.02148221946703, clf__penalty=l1, clf__random_state=123, scaler__with_mean=True \n",
      "[CV]  clf__C=54.02148221946703, clf__penalty=l1, clf__random_state=123, scaler__with_mean=True, total=   0.8s\n",
      "[CV]  clf__C=54.02148221946703, clf__penalty=l1, clf__random_state=123, scaler__with_mean=True, total=   0.9s\n",
      "[CV] clf__C=54.02148221946703, clf__penalty=l1, clf__random_state=123, scaler__with_mean=True \n",
      "[CV] clf__C=0.09882536189042468, clf__penalty=l1, clf__random_state=123, scaler__with_mean=True \n",
      "[CV]  clf__C=54.02148221946703, clf__penalty=l1, clf__random_state=123, scaler__with_mean=True, total=   1.0s\n",
      "[CV] clf__C=0.09882536189042468, clf__penalty=l1, clf__random_state=123, scaler__with_mean=True \n",
      "[CV]  clf__C=54.02148221946703, clf__penalty=l1, clf__random_state=123, scaler__with_mean=True, total=   1.0s\n",
      "[CV] clf__C=0.09882536189042468, clf__penalty=l1, clf__random_state=123, scaler__with_mean=True \n",
      "[CV]  clf__C=54.02148221946703, clf__penalty=l1, clf__random_state=123, scaler__with_mean=True, total=   1.0s\n",
      "[CV] clf__C=0.09882536189042468, clf__penalty=l1, clf__random_state=123, scaler__with_mean=True \n",
      "[CV]  clf__C=0.09882536189042468, clf__penalty=l1, clf__random_state=123, scaler__with_mean=True, total=   3.6s\n",
      "[CV] clf__C=0.09882536189042468, clf__penalty=l1, clf__random_state=123, scaler__with_mean=True \n",
      "[CV]  clf__C=0.09882536189042468, clf__penalty=l1, clf__random_state=123, scaler__with_mean=True, total=   3.3s\n",
      "[CV] clf__C=739.3313143249965, clf__penalty=l1, clf__random_state=123, scaler__with_mean=True \n",
      "[CV]  clf__C=0.09882536189042468, clf__penalty=l1, clf__random_state=123, scaler__with_mean=True, total=   3.9s\n",
      "[CV] clf__C=739.3313143249965, clf__penalty=l1, clf__random_state=123, scaler__with_mean=True \n",
      "[CV]  clf__C=739.3313143249965, clf__penalty=l1, clf__random_state=123, scaler__with_mean=True, total=   0.7s\n",
      "[CV] clf__C=739.3313143249965, clf__penalty=l1, clf__random_state=123, scaler__with_mean=True \n",
      "[CV]  clf__C=0.09882536189042468, clf__penalty=l1, clf__random_state=123, scaler__with_mean=True, total=   3.8s\n",
      "[CV] clf__C=739.3313143249965, clf__penalty=l1, clf__random_state=123, scaler__with_mean=True \n",
      "[CV]  clf__C=739.3313143249965, clf__penalty=l1, clf__random_state=123, scaler__with_mean=True, total=   0.8s\n",
      "[CV] clf__C=739.3313143249965, clf__penalty=l1, clf__random_state=123, scaler__with_mean=True \n",
      "[CV]  clf__C=739.3313143249965, clf__penalty=l1, clf__random_state=123, scaler__with_mean=True, total=   0.8s\n",
      "[CV] clf__C=6.0873234832561394e-05, clf__penalty=l1, clf__random_state=123, scaler__with_mean=False \n",
      "[CV]  clf__C=6.0873234832561394e-05, clf__penalty=l1, clf__random_state=123, scaler__with_mean=False, total=   0.2s\n",
      "[CV] clf__C=6.0873234832561394e-05, clf__penalty=l1, clf__random_state=123, scaler__with_mean=False \n",
      "[CV]  clf__C=739.3313143249965, clf__penalty=l1, clf__random_state=123, scaler__with_mean=True, total=   0.8s\n",
      "[CV] clf__C=6.0873234832561394e-05, clf__penalty=l1, clf__random_state=123, scaler__with_mean=False \n",
      "[CV]  clf__C=739.3313143249965, clf__penalty=l1, clf__random_state=123, scaler__with_mean=True, total=   1.0s\n",
      "[CV]  clf__C=6.0873234832561394e-05, clf__penalty=l1, clf__random_state=123, scaler__with_mean=False, total=   0.3s\n",
      "[CV] clf__C=6.0873234832561394e-05, clf__penalty=l1, clf__random_state=123, scaler__with_mean=False \n",
      "[CV] clf__C=6.0873234832561394e-05, clf__penalty=l1, clf__random_state=123, scaler__with_mean=False \n",
      "[CV]  clf__C=6.0873234832561394e-05, clf__penalty=l1, clf__random_state=123, scaler__with_mean=False, total=   0.2s\n",
      "[CV] clf__C=0.17984668960629735, clf__penalty=l2, clf__random_state=123, scaler__with_mean=True \n",
      "[CV]  clf__C=6.0873234832561394e-05, clf__penalty=l1, clf__random_state=123, scaler__with_mean=False, total=   0.2s\n",
      "[CV] clf__C=0.17984668960629735, clf__penalty=l2, clf__random_state=123, scaler__with_mean=True \n",
      "[CV]  clf__C=6.0873234832561394e-05, clf__penalty=l1, clf__random_state=123, scaler__with_mean=False, total=   0.2s\n",
      "[CV] clf__C=0.17984668960629735, clf__penalty=l2, clf__random_state=123, scaler__with_mean=True \n",
      "[CV]  clf__C=0.09882536189042468, clf__penalty=l1, clf__random_state=123, scaler__with_mean=True, total=   3.9s\n",
      "[CV] clf__C=0.17984668960629735, clf__penalty=l2, clf__random_state=123, scaler__with_mean=True \n",
      "[CV]  clf__C=0.17984668960629735, clf__penalty=l2, clf__random_state=123, scaler__with_mean=True, total=   2.3s\n",
      "[CV] clf__C=0.17984668960629735, clf__penalty=l2, clf__random_state=123, scaler__with_mean=True \n",
      "[CV]  clf__C=0.17984668960629735, clf__penalty=l2, clf__random_state=123, scaler__with_mean=True, total=   2.2s\n",
      "[CV] clf__C=0.066168907176401, clf__penalty=l1, clf__random_state=123, scaler__with_mean=False \n",
      "[CV]  clf__C=0.17984668960629735, clf__penalty=l2, clf__random_state=123, scaler__with_mean=True, total=   2.2s\n",
      "[CV] clf__C=0.066168907176401, clf__penalty=l1, clf__random_state=123, scaler__with_mean=False \n",
      "[CV]  clf__C=0.066168907176401, clf__penalty=l1, clf__random_state=123, scaler__with_mean=False, total=   0.3s\n",
      "[CV] clf__C=0.066168907176401, clf__penalty=l1, clf__random_state=123, scaler__with_mean=False \n",
      "[CV]  clf__C=0.066168907176401, clf__penalty=l1, clf__random_state=123, scaler__with_mean=False, total=   0.3s\n",
      "[CV] clf__C=0.066168907176401, clf__penalty=l1, clf__random_state=123, scaler__with_mean=False \n",
      "[CV]  clf__C=0.066168907176401, clf__penalty=l1, clf__random_state=123, scaler__with_mean=False, total=   0.4s\n",
      "[CV] clf__C=0.066168907176401, clf__penalty=l1, clf__random_state=123, scaler__with_mean=False \n",
      "[CV]  clf__C=0.066168907176401, clf__penalty=l1, clf__random_state=123, scaler__with_mean=False, total=   0.3s\n",
      "[CV] clf__C=0.6846579724234434, clf__penalty=l1, clf__random_state=123, scaler__with_mean=True \n",
      "[CV]  clf__C=0.17984668960629735, clf__penalty=l2, clf__random_state=123, scaler__with_mean=True, total=   2.1s\n",
      "[CV]  clf__C=0.066168907176401, clf__penalty=l1, clf__random_state=123, scaler__with_mean=False, total=   0.3s\n",
      "[CV] clf__C=0.6846579724234434, clf__penalty=l1, clf__random_state=123, scaler__with_mean=True \n",
      "[CV] clf__C=0.6846579724234434, clf__penalty=l1, clf__random_state=123, scaler__with_mean=True \n"
     ]
    },
    {
     "name": "stderr",
     "output_type": "stream",
     "text": [
      "[Parallel(n_jobs=-1)]: Done  33 tasks      | elapsed:   11.9s\n"
     ]
    },
    {
     "name": "stdout",
     "output_type": "stream",
     "text": [
      "[CV]  clf__C=0.6846579724234434, clf__penalty=l1, clf__random_state=123, scaler__with_mean=True, total=   0.7s\n",
      "[CV] clf__C=0.6846579724234434, clf__penalty=l1, clf__random_state=123, scaler__with_mean=True \n",
      "[CV]  clf__C=0.6846579724234434, clf__penalty=l1, clf__random_state=123, scaler__with_mean=True, total=   0.7s\n",
      "[CV]  clf__C=0.6846579724234434, clf__penalty=l1, clf__random_state=123, scaler__with_mean=True, total=   0.8s\n",
      "[CV] clf__C=0.6846579724234434, clf__penalty=l1, clf__random_state=123, scaler__with_mean=True \n",
      "[CV]  clf__C=0.17984668960629735, clf__penalty=l2, clf__random_state=123, scaler__with_mean=True, total=   2.2s\n",
      "[CV] clf__C=0.16932626914590523, clf__penalty=l2, clf__random_state=123, scaler__with_mean=False \n",
      "[CV] clf__C=0.16932626914590523, clf__penalty=l2, clf__random_state=123, scaler__with_mean=False \n",
      "[CV]  clf__C=0.6846579724234434, clf__penalty=l1, clf__random_state=123, scaler__with_mean=True, total=   1.0s\n",
      "[CV]  clf__C=0.16932626914590523, clf__penalty=l2, clf__random_state=123, scaler__with_mean=False, total=   0.7s\n",
      "[CV] clf__C=0.16932626914590523, clf__penalty=l2, clf__random_state=123, scaler__with_mean=False \n",
      "[CV]  clf__C=0.16932626914590523, clf__penalty=l2, clf__random_state=123, scaler__with_mean=False, total=   0.7s\n",
      "[CV] clf__C=0.16932626914590523, clf__penalty=l2, clf__random_state=123, scaler__with_mean=False \n",
      "[CV] clf__C=0.16932626914590523, clf__penalty=l2, clf__random_state=123, scaler__with_mean=False \n",
      "[CV]  clf__C=0.6846579724234434, clf__penalty=l1, clf__random_state=123, scaler__with_mean=True, total=   1.0s\n",
      "[CV] clf__C=0.17597644951448602, clf__penalty=l1, clf__random_state=123, scaler__with_mean=True \n",
      "[CV]  clf__C=0.16932626914590523, clf__penalty=l2, clf__random_state=123, scaler__with_mean=False, total=   0.6s\n",
      "[CV] clf__C=0.17597644951448602, clf__penalty=l1, clf__random_state=123, scaler__with_mean=True \n",
      "[CV]  clf__C=0.16932626914590523, clf__penalty=l2, clf__random_state=123, scaler__with_mean=False, total=   0.7s\n",
      "[CV] clf__C=0.17597644951448602, clf__penalty=l1, clf__random_state=123, scaler__with_mean=True \n",
      "[CV]  clf__C=0.16932626914590523, clf__penalty=l2, clf__random_state=123, scaler__with_mean=False, total=   0.8s\n",
      "[CV] clf__C=0.17597644951448602, clf__penalty=l1, clf__random_state=123, scaler__with_mean=True \n",
      "[CV]  clf__C=0.17597644951448602, clf__penalty=l1, clf__random_state=123, scaler__with_mean=True, total=   4.6s\n",
      "[CV] clf__C=0.17597644951448602, clf__penalty=l1, clf__random_state=123, scaler__with_mean=True \n",
      "[CV]  clf__C=0.17597644951448602, clf__penalty=l1, clf__random_state=123, scaler__with_mean=True, total=   4.8s\n",
      "[CV] clf__C=55.49070845521297, clf__penalty=l2, clf__random_state=123, scaler__with_mean=True \n",
      "[CV]  clf__C=0.17597644951448602, clf__penalty=l1, clf__random_state=123, scaler__with_mean=True, total=   5.6s\n",
      "[CV] clf__C=55.49070845521297, clf__penalty=l2, clf__random_state=123, scaler__with_mean=True \n",
      "[CV]  clf__C=0.17597644951448602, clf__penalty=l1, clf__random_state=123, scaler__with_mean=True, total=   5.3s\n",
      "[CV] clf__C=55.49070845521297, clf__penalty=l2, clf__random_state=123, scaler__with_mean=True \n",
      "[CV]  clf__C=55.49070845521297, clf__penalty=l2, clf__random_state=123, scaler__with_mean=True, total=   2.5s\n",
      "[CV] clf__C=55.49070845521297, clf__penalty=l2, clf__random_state=123, scaler__with_mean=True \n",
      "[CV]  clf__C=55.49070845521297, clf__penalty=l2, clf__random_state=123, scaler__with_mean=True, total=   2.7s\n",
      "[CV] clf__C=55.49070845521297, clf__penalty=l2, clf__random_state=123, scaler__with_mean=True \n",
      "[CV]  clf__C=55.49070845521297, clf__penalty=l2, clf__random_state=123, scaler__with_mean=True, total=   3.1s\n",
      "[CV] clf__C=4.686779143259426, clf__penalty=l1, clf__random_state=123, scaler__with_mean=False \n",
      "[CV]  clf__C=4.686779143259426, clf__penalty=l1, clf__random_state=123, scaler__with_mean=False, total=   0.3s\n",
      "[CV] clf__C=4.686779143259426, clf__penalty=l1, clf__random_state=123, scaler__with_mean=False \n",
      "[CV]  clf__C=4.686779143259426, clf__penalty=l1, clf__random_state=123, scaler__with_mean=False, total=   0.3s\n",
      "[CV] clf__C=4.686779143259426, clf__penalty=l1, clf__random_state=123, scaler__with_mean=False \n",
      "[CV]  clf__C=4.686779143259426, clf__penalty=l1, clf__random_state=123, scaler__with_mean=False, total=   0.3s\n",
      "[CV] clf__C=4.686779143259426, clf__penalty=l1, clf__random_state=123, scaler__with_mean=False \n",
      "[CV]  clf__C=4.686779143259426, clf__penalty=l1, clf__random_state=123, scaler__with_mean=False, total=   0.3s\n",
      "[CV] clf__C=4.686779143259426, clf__penalty=l1, clf__random_state=123, scaler__with_mean=False \n",
      "[CV]  clf__C=55.49070845521297, clf__penalty=l2, clf__random_state=123, scaler__with_mean=True, total=   2.1s\n",
      "[CV] clf__C=0.023675003937163, clf__penalty=l1, clf__random_state=123, scaler__with_mean=False \n",
      "[CV]  clf__C=0.023675003937163, clf__penalty=l1, clf__random_state=123, scaler__with_mean=False, total=   0.3s\n",
      "[CV] clf__C=0.023675003937163, clf__penalty=l1, clf__random_state=123, scaler__with_mean=False \n",
      "[CV]  clf__C=55.49070845521297, clf__penalty=l2, clf__random_state=123, scaler__with_mean=True, total=   2.7s\n",
      "[CV] clf__C=0.023675003937163, clf__penalty=l1, clf__random_state=123, scaler__with_mean=False \n",
      "[CV]  clf__C=0.023675003937163, clf__penalty=l1, clf__random_state=123, scaler__with_mean=False, total=   0.3s\n",
      "[CV] clf__C=0.023675003937163, clf__penalty=l1, clf__random_state=123, scaler__with_mean=False \n",
      "[CV]  clf__C=0.023675003937163, clf__penalty=l1, clf__random_state=123, scaler__with_mean=False, total=   0.3s\n",
      "[CV] clf__C=0.023675003937163, clf__penalty=l1, clf__random_state=123, scaler__with_mean=False \n",
      "[CV]  clf__C=0.023675003937163, clf__penalty=l1, clf__random_state=123, scaler__with_mean=False, total=   0.3s\n",
      "[CV] clf__C=110.3123821864009, clf__penalty=l2, clf__random_state=123, scaler__with_mean=False \n",
      "[CV]  clf__C=0.023675003937163, clf__penalty=l1, clf__random_state=123, scaler__with_mean=False, total=   0.3s\n",
      "[CV] clf__C=110.3123821864009, clf__penalty=l2, clf__random_state=123, scaler__with_mean=False \n",
      "[CV]  clf__C=0.17597644951448602, clf__penalty=l1, clf__random_state=123, scaler__with_mean=True, total=   7.0s\n",
      "[CV] clf__C=110.3123821864009, clf__penalty=l2, clf__random_state=123, scaler__with_mean=False \n",
      "[CV]  clf__C=110.3123821864009, clf__penalty=l2, clf__random_state=123, scaler__with_mean=False, total=   0.6s\n",
      "[CV] clf__C=110.3123821864009, clf__penalty=l2, clf__random_state=123, scaler__with_mean=False \n",
      "[CV]  clf__C=4.686779143259426, clf__penalty=l1, clf__random_state=123, scaler__with_mean=False, total=   2.6s\n",
      "[CV] clf__C=110.3123821864009, clf__penalty=l2, clf__random_state=123, scaler__with_mean=False \n",
      "[CV]  clf__C=110.3123821864009, clf__penalty=l2, clf__random_state=123, scaler__with_mean=False, total=   0.8s\n",
      "[CV] clf__C=37.65330690538603, clf__penalty=l1, clf__random_state=123, scaler__with_mean=True \n",
      "[CV]  clf__C=110.3123821864009, clf__penalty=l2, clf__random_state=123, scaler__with_mean=False, total=   0.8s\n",
      "[CV] clf__C=37.65330690538603, clf__penalty=l1, clf__random_state=123, scaler__with_mean=True \n",
      "[CV]  clf__C=110.3123821864009, clf__penalty=l2, clf__random_state=123, scaler__with_mean=False, total=   0.9s\n",
      "[CV] clf__C=37.65330690538603, clf__penalty=l1, clf__random_state=123, scaler__with_mean=True \n",
      "[CV]  clf__C=110.3123821864009, clf__penalty=l2, clf__random_state=123, scaler__with_mean=False, total=   0.7s\n",
      "[CV] clf__C=37.65330690538603, clf__penalty=l1, clf__random_state=123, scaler__with_mean=True \n",
      "[CV]  clf__C=37.65330690538603, clf__penalty=l1, clf__random_state=123, scaler__with_mean=True, total=   0.8s\n",
      "[CV] clf__C=37.65330690538603, clf__penalty=l1, clf__random_state=123, scaler__with_mean=True \n",
      "[CV]  clf__C=37.65330690538603, clf__penalty=l1, clf__random_state=123, scaler__with_mean=True, total=   0.7s\n",
      "[CV] clf__C=0.003297064338248382, clf__penalty=l1, clf__random_state=123, scaler__with_mean=True \n",
      "[CV]  clf__C=37.65330690538603, clf__penalty=l1, clf__random_state=123, scaler__with_mean=True, total=   0.7s\n",
      "[CV] clf__C=0.003297064338248382, clf__penalty=l1, clf__random_state=123, scaler__with_mean=True \n",
      "[CV]  clf__C=37.65330690538603, clf__penalty=l1, clf__random_state=123, scaler__with_mean=True, total=   0.7s\n"
     ]
    },
    {
     "name": "stdout",
     "output_type": "stream",
     "text": [
      "[CV] clf__C=0.003297064338248382, clf__penalty=l1, clf__random_state=123, scaler__with_mean=True \n",
      "[CV]  clf__C=37.65330690538603, clf__penalty=l1, clf__random_state=123, scaler__with_mean=True, total=   0.8s\n",
      "[CV] clf__C=0.003297064338248382, clf__penalty=l1, clf__random_state=123, scaler__with_mean=True \n",
      "[CV]  clf__C=0.003297064338248382, clf__penalty=l1, clf__random_state=123, scaler__with_mean=True, total=   0.4s\n",
      "[CV] clf__C=0.003297064338248382, clf__penalty=l1, clf__random_state=123, scaler__with_mean=True \n",
      "[CV]  clf__C=0.003297064338248382, clf__penalty=l1, clf__random_state=123, scaler__with_mean=True, total=   0.4s\n",
      "[CV] clf__C=0.359702678393066, clf__penalty=l2, clf__random_state=123, scaler__with_mean=False \n",
      "[CV]  clf__C=0.003297064338248382, clf__penalty=l1, clf__random_state=123, scaler__with_mean=True, total=   0.4s\n",
      "[CV] clf__C=0.359702678393066, clf__penalty=l2, clf__random_state=123, scaler__with_mean=False \n",
      "[CV]  clf__C=0.003297064338248382, clf__penalty=l1, clf__random_state=123, scaler__with_mean=True, total=   0.4s\n",
      "[CV] clf__C=0.359702678393066, clf__penalty=l2, clf__random_state=123, scaler__with_mean=False \n",
      "[CV]  clf__C=0.003297064338248382, clf__penalty=l1, clf__random_state=123, scaler__with_mean=True, total=   0.4s\n",
      "[CV] clf__C=0.359702678393066, clf__penalty=l2, clf__random_state=123, scaler__with_mean=False \n",
      "[CV]  clf__C=0.359702678393066, clf__penalty=l2, clf__random_state=123, scaler__with_mean=False, total=   0.7s\n",
      "[CV] clf__C=0.359702678393066, clf__penalty=l2, clf__random_state=123, scaler__with_mean=False \n",
      "[CV]  clf__C=0.359702678393066, clf__penalty=l2, clf__random_state=123, scaler__with_mean=False, total=   0.6s\n",
      "[CV] clf__C=1.3751585631540372e-05, clf__penalty=l1, clf__random_state=123, scaler__with_mean=True \n",
      "[CV]  clf__C=0.359702678393066, clf__penalty=l2, clf__random_state=123, scaler__with_mean=False, total=   0.7s\n",
      "[CV] clf__C=1.3751585631540372e-05, clf__penalty=l1, clf__random_state=123, scaler__with_mean=True \n",
      "[CV]  clf__C=0.359702678393066, clf__penalty=l2, clf__random_state=123, scaler__with_mean=False, total=   0.7s\n",
      "[CV] clf__C=1.3751585631540372e-05, clf__penalty=l1, clf__random_state=123, scaler__with_mean=True \n",
      "[CV]  clf__C=1.3751585631540372e-05, clf__penalty=l1, clf__random_state=123, scaler__with_mean=True, total=   0.4s\n",
      "[CV] clf__C=1.3751585631540372e-05, clf__penalty=l1, clf__random_state=123, scaler__with_mean=True \n",
      "[CV]  clf__C=1.3751585631540372e-05, clf__penalty=l1, clf__random_state=123, scaler__with_mean=True, total=   0.3s\n",
      "[CV] clf__C=1.3751585631540372e-05, clf__penalty=l1, clf__random_state=123, scaler__with_mean=True \n",
      "[CV]  clf__C=0.359702678393066, clf__penalty=l2, clf__random_state=123, scaler__with_mean=False, total=   0.8s\n",
      "[CV]  clf__C=1.3751585631540372e-05, clf__penalty=l1, clf__random_state=123, scaler__with_mean=True, total=   0.3s\n",
      "[CV] clf__C=40.847667765581036, clf__penalty=l1, clf__random_state=123, scaler__with_mean=False \n",
      "[CV] clf__C=40.847667765581036, clf__penalty=l1, clf__random_state=123, scaler__with_mean=False \n",
      "[CV]  clf__C=1.3751585631540372e-05, clf__penalty=l1, clf__random_state=123, scaler__with_mean=True, total=   0.3s\n",
      "[CV] clf__C=40.847667765581036, clf__penalty=l1, clf__random_state=123, scaler__with_mean=False \n",
      "[CV]  clf__C=1.3751585631540372e-05, clf__penalty=l1, clf__random_state=123, scaler__with_mean=True, total=   0.3s\n",
      "[CV] clf__C=40.847667765581036, clf__penalty=l1, clf__random_state=123, scaler__with_mean=False \n",
      "[CV]  clf__C=40.847667765581036, clf__penalty=l1, clf__random_state=123, scaler__with_mean=False, total=   0.3s\n",
      "[CV]  clf__C=40.847667765581036, clf__penalty=l1, clf__random_state=123, scaler__with_mean=False, total=   0.3s\n",
      "[CV] clf__C=40.847667765581036, clf__penalty=l1, clf__random_state=123, scaler__with_mean=False \n",
      "[CV] clf__C=0.49930271136349663, clf__penalty=l1, clf__random_state=123, scaler__with_mean=True \n",
      "[CV]  clf__C=40.847667765581036, clf__penalty=l1, clf__random_state=123, scaler__with_mean=False, total=   0.3s\n",
      "[CV] clf__C=0.49930271136349663, clf__penalty=l1, clf__random_state=123, scaler__with_mean=True \n",
      "[CV]  clf__C=40.847667765581036, clf__penalty=l1, clf__random_state=123, scaler__with_mean=False, total=   0.4s\n",
      "[CV] clf__C=0.49930271136349663, clf__penalty=l1, clf__random_state=123, scaler__with_mean=True \n",
      "[CV]  clf__C=40.847667765581036, clf__penalty=l1, clf__random_state=123, scaler__with_mean=False, total=   0.4s\n",
      "[CV] clf__C=0.49930271136349663, clf__penalty=l1, clf__random_state=123, scaler__with_mean=True \n",
      "[CV]  clf__C=0.49930271136349663, clf__penalty=l1, clf__random_state=123, scaler__with_mean=True, total=   0.7s\n",
      "[CV] clf__C=0.49930271136349663, clf__penalty=l1, clf__random_state=123, scaler__with_mean=True \n",
      "[CV]  clf__C=0.49930271136349663, clf__penalty=l1, clf__random_state=123, scaler__with_mean=True, total=   0.6s\n",
      "[CV]  clf__C=0.49930271136349663, clf__penalty=l1, clf__random_state=123, scaler__with_mean=True, total=   0.6s\n",
      "[CV]  clf__C=0.49930271136349663, clf__penalty=l1, clf__random_state=123, scaler__with_mean=True, total=   0.6s\n",
      "[CV]  clf__C=0.49930271136349663, clf__penalty=l1, clf__random_state=123, scaler__with_mean=True, total=   0.5s\n"
     ]
    },
    {
     "name": "stderr",
     "output_type": "stream",
     "text": [
      "[Parallel(n_jobs=-1)]: Done 100 out of 100 | elapsed:   32.0s finished\n"
     ]
    },
    {
     "data": {
      "text/plain": [
       "RandomizedSearchCV(cv=StratifiedKFold(n_splits=5, random_state=123, shuffle=True),\n",
       "          error_score='raise',\n",
       "          estimator=Pipeline(memory=None,\n",
       "     steps=[('scaler', StandardScaler(copy=True, with_mean=True, with_std=True)), ('clf', LogisticRegression(C=1.0, class_weight=None, dual=False, fit_intercept=True,\n",
       "          intercept_scaling=1, max_iter=100, multi_class='ovr', n_jobs=1,\n",
       "          penalty='l2', random_state=None, solver='liblinear', tol=0.0001,\n",
       "          verbose=0, warm_start=False))]),\n",
       "          fit_params=None, iid=True, n_iter=20, n_jobs=-1,\n",
       "          param_distributions={'scaler__with_mean': [False, True], 'clf__penalty': ['l1', 'l2'], 'clf__random_state': [123], 'clf__C': <scipy.stats._distn_infrastructure.rv_frozen object at 0x1b9ee1d30>},\n",
       "          pre_dispatch='2*n_jobs', random_state=123, refit=True,\n",
       "          return_train_score='warn', scoring='roc_auc', verbose=2)"
      ]
     },
     "execution_count": 28,
     "metadata": {},
     "output_type": "execute_result"
    }
   ],
   "source": [
    "# Рассмотрим 20 случайных комбинаций\n",
    "random_searcher = RandomizedSearchCV(model, param_grid, n_iter=20, \n",
    "                                     random_state=RND_SEED,\n",
    "                                     scoring='roc_auc', \n",
    "                                     n_jobs=-1, cv=cv, \n",
    "                                     verbose=2)\n",
    "\n",
    "random_searcher.fit(X, y)"
   ]
  },
  {
   "cell_type": "markdown",
   "metadata": {},
   "source": [
    "Аналогичный выхлоп"
   ]
  },
  {
   "cell_type": "code",
   "execution_count": 29,
   "metadata": {
    "scrolled": true
   },
   "outputs": [
    {
     "data": {
      "text/plain": [
       "{'clf__C': 0.066168907176401,\n",
       " 'clf__penalty': 'l1',\n",
       " 'clf__random_state': 123,\n",
       " 'scaler__with_mean': False}"
      ]
     },
     "execution_count": 29,
     "metadata": {},
     "output_type": "execute_result"
    }
   ],
   "source": [
    "random_searcher.best_params_"
   ]
  },
  {
   "cell_type": "code",
   "execution_count": 30,
   "metadata": {},
   "outputs": [
    {
     "data": {
      "text/plain": [
       "0.8331583707587474"
      ]
     },
     "execution_count": 30,
     "metadata": {},
     "output_type": "execute_result"
    }
   ],
   "source": [
    "random_searcher.best_score_"
   ]
  },
  {
   "cell_type": "code",
   "execution_count": 31,
   "metadata": {},
   "outputs": [
    {
     "name": "stderr",
     "output_type": "stream",
     "text": [
      "/Library/Frameworks/Python.framework/Versions/3.6/lib/python3.6/site-packages/sklearn/utils/deprecation.py:122: FutureWarning: You are accessing a training score ('mean_train_score'), which will not be available by default any more in 0.21. If you need training scores, please set return_train_score=True\n",
      "  warnings.warn(*warn_args, **warn_kwargs)\n",
      "/Library/Frameworks/Python.framework/Versions/3.6/lib/python3.6/site-packages/sklearn/utils/deprecation.py:122: FutureWarning: You are accessing a training score ('split0_train_score'), which will not be available by default any more in 0.21. If you need training scores, please set return_train_score=True\n",
      "  warnings.warn(*warn_args, **warn_kwargs)\n",
      "/Library/Frameworks/Python.framework/Versions/3.6/lib/python3.6/site-packages/sklearn/utils/deprecation.py:122: FutureWarning: You are accessing a training score ('split1_train_score'), which will not be available by default any more in 0.21. If you need training scores, please set return_train_score=True\n",
      "  warnings.warn(*warn_args, **warn_kwargs)\n",
      "/Library/Frameworks/Python.framework/Versions/3.6/lib/python3.6/site-packages/sklearn/utils/deprecation.py:122: FutureWarning: You are accessing a training score ('split2_train_score'), which will not be available by default any more in 0.21. If you need training scores, please set return_train_score=True\n",
      "  warnings.warn(*warn_args, **warn_kwargs)\n",
      "/Library/Frameworks/Python.framework/Versions/3.6/lib/python3.6/site-packages/sklearn/utils/deprecation.py:122: FutureWarning: You are accessing a training score ('split3_train_score'), which will not be available by default any more in 0.21. If you need training scores, please set return_train_score=True\n",
      "  warnings.warn(*warn_args, **warn_kwargs)\n",
      "/Library/Frameworks/Python.framework/Versions/3.6/lib/python3.6/site-packages/sklearn/utils/deprecation.py:122: FutureWarning: You are accessing a training score ('split4_train_score'), which will not be available by default any more in 0.21. If you need training scores, please set return_train_score=True\n",
      "  warnings.warn(*warn_args, **warn_kwargs)\n",
      "/Library/Frameworks/Python.framework/Versions/3.6/lib/python3.6/site-packages/sklearn/utils/deprecation.py:122: FutureWarning: You are accessing a training score ('std_train_score'), which will not be available by default any more in 0.21. If you need training scores, please set return_train_score=True\n",
      "  warnings.warn(*warn_args, **warn_kwargs)\n"
     ]
    }
   ],
   "source": [
    "results = pd.DataFrame(random_searcher.cv_results_)"
   ]
  },
  {
   "cell_type": "code",
   "execution_count": 32,
   "metadata": {},
   "outputs": [
    {
     "data": {
      "text/html": [
       "<div>\n",
       "<style scoped>\n",
       "    .dataframe tbody tr th:only-of-type {\n",
       "        vertical-align: middle;\n",
       "    }\n",
       "\n",
       "    .dataframe tbody tr th {\n",
       "        vertical-align: top;\n",
       "    }\n",
       "\n",
       "    .dataframe thead th {\n",
       "        text-align: right;\n",
       "    }\n",
       "</style>\n",
       "<table border=\"1\" class=\"dataframe\">\n",
       "  <thead>\n",
       "    <tr style=\"text-align: right;\">\n",
       "      <th></th>\n",
       "      <th>mean_fit_time</th>\n",
       "      <th>mean_score_time</th>\n",
       "      <th>mean_test_score</th>\n",
       "      <th>mean_train_score</th>\n",
       "      <th>param_clf__C</th>\n",
       "      <th>param_clf__penalty</th>\n",
       "      <th>param_clf__random_state</th>\n",
       "      <th>param_scaler__with_mean</th>\n",
       "      <th>params</th>\n",
       "      <th>rank_test_score</th>\n",
       "      <th>...</th>\n",
       "      <th>split2_test_score</th>\n",
       "      <th>split2_train_score</th>\n",
       "      <th>split3_test_score</th>\n",
       "      <th>split3_train_score</th>\n",
       "      <th>split4_test_score</th>\n",
       "      <th>split4_train_score</th>\n",
       "      <th>std_fit_time</th>\n",
       "      <th>std_score_time</th>\n",
       "      <th>std_test_score</th>\n",
       "      <th>std_train_score</th>\n",
       "    </tr>\n",
       "  </thead>\n",
       "  <tbody>\n",
       "    <tr>\n",
       "      <th>0</th>\n",
       "      <td>0.450010</td>\n",
       "      <td>0.014580</td>\n",
       "      <td>0.829823</td>\n",
       "      <td>0.83483</td>\n",
       "      <td>0.0130037</td>\n",
       "      <td>l1</td>\n",
       "      <td>123</td>\n",
       "      <td>False</td>\n",
       "      <td>{'clf__C': 0.013003686130638284, 'clf__penalty...</td>\n",
       "      <td>10</td>\n",
       "      <td>...</td>\n",
       "      <td>0.828339</td>\n",
       "      <td>0.835108</td>\n",
       "      <td>0.826307</td>\n",
       "      <td>0.835925</td>\n",
       "      <td>0.838228</td>\n",
       "      <td>0.833296</td>\n",
       "      <td>0.046482</td>\n",
       "      <td>0.002682</td>\n",
       "      <td>0.004285</td>\n",
       "      <td>0.000864</td>\n",
       "    </tr>\n",
       "    <tr>\n",
       "      <th>1</th>\n",
       "      <td>0.944044</td>\n",
       "      <td>0.013206</td>\n",
       "      <td>0.829797</td>\n",
       "      <td>0.84957</td>\n",
       "      <td>54.0215</td>\n",
       "      <td>l1</td>\n",
       "      <td>123</td>\n",
       "      <td>True</td>\n",
       "      <td>{'clf__C': 54.02148221946703, 'clf__penalty': ...</td>\n",
       "      <td>14</td>\n",
       "      <td>...</td>\n",
       "      <td>0.828252</td>\n",
       "      <td>0.849284</td>\n",
       "      <td>0.826534</td>\n",
       "      <td>0.850177</td>\n",
       "      <td>0.836140</td>\n",
       "      <td>0.848428</td>\n",
       "      <td>0.067740</td>\n",
       "      <td>0.002896</td>\n",
       "      <td>0.003311</td>\n",
       "      <td>0.000720</td>\n",
       "    </tr>\n",
       "    <tr>\n",
       "      <th>2</th>\n",
       "      <td>3.690972</td>\n",
       "      <td>0.012877</td>\n",
       "      <td>0.832555</td>\n",
       "      <td>0.84843</td>\n",
       "      <td>0.0988254</td>\n",
       "      <td>l1</td>\n",
       "      <td>123</td>\n",
       "      <td>True</td>\n",
       "      <td>{'clf__C': 0.09882536189042468, 'clf__penalty'...</td>\n",
       "      <td>3</td>\n",
       "      <td>...</td>\n",
       "      <td>0.830870</td>\n",
       "      <td>0.847942</td>\n",
       "      <td>0.829224</td>\n",
       "      <td>0.849445</td>\n",
       "      <td>0.838952</td>\n",
       "      <td>0.847168</td>\n",
       "      <td>0.227141</td>\n",
       "      <td>0.002671</td>\n",
       "      <td>0.003359</td>\n",
       "      <td>0.000820</td>\n",
       "    </tr>\n",
       "    <tr>\n",
       "      <th>3</th>\n",
       "      <td>0.819588</td>\n",
       "      <td>0.013123</td>\n",
       "      <td>0.829789</td>\n",
       "      <td>0.84957</td>\n",
       "      <td>739.331</td>\n",
       "      <td>l1</td>\n",
       "      <td>123</td>\n",
       "      <td>True</td>\n",
       "      <td>{'clf__C': 739.3313143249965, 'clf__penalty': ...</td>\n",
       "      <td>15</td>\n",
       "      <td>...</td>\n",
       "      <td>0.828240</td>\n",
       "      <td>0.849283</td>\n",
       "      <td>0.826529</td>\n",
       "      <td>0.850175</td>\n",
       "      <td>0.836133</td>\n",
       "      <td>0.848430</td>\n",
       "      <td>0.121643</td>\n",
       "      <td>0.004163</td>\n",
       "      <td>0.003311</td>\n",
       "      <td>0.000719</td>\n",
       "    </tr>\n",
       "    <tr>\n",
       "      <th>4</th>\n",
       "      <td>0.220526</td>\n",
       "      <td>0.012429</td>\n",
       "      <td>0.500000</td>\n",
       "      <td>0.50000</td>\n",
       "      <td>6.08732e-05</td>\n",
       "      <td>l1</td>\n",
       "      <td>123</td>\n",
       "      <td>False</td>\n",
       "      <td>{'clf__C': 6.0873234832561394e-05, 'clf__penal...</td>\n",
       "      <td>19</td>\n",
       "      <td>...</td>\n",
       "      <td>0.500000</td>\n",
       "      <td>0.500000</td>\n",
       "      <td>0.500000</td>\n",
       "      <td>0.500000</td>\n",
       "      <td>0.500000</td>\n",
       "      <td>0.500000</td>\n",
       "      <td>0.019552</td>\n",
       "      <td>0.002083</td>\n",
       "      <td>0.000000</td>\n",
       "      <td>0.000000</td>\n",
       "    </tr>\n",
       "  </tbody>\n",
       "</table>\n",
       "<p>5 rows × 24 columns</p>\n",
       "</div>"
      ],
      "text/plain": [
       "   mean_fit_time  mean_score_time  mean_test_score  mean_train_score  \\\n",
       "0       0.450010         0.014580         0.829823           0.83483   \n",
       "1       0.944044         0.013206         0.829797           0.84957   \n",
       "2       3.690972         0.012877         0.832555           0.84843   \n",
       "3       0.819588         0.013123         0.829789           0.84957   \n",
       "4       0.220526         0.012429         0.500000           0.50000   \n",
       "\n",
       "  param_clf__C param_clf__penalty param_clf__random_state  \\\n",
       "0    0.0130037                 l1                     123   \n",
       "1      54.0215                 l1                     123   \n",
       "2    0.0988254                 l1                     123   \n",
       "3      739.331                 l1                     123   \n",
       "4  6.08732e-05                 l1                     123   \n",
       "\n",
       "  param_scaler__with_mean                                             params  \\\n",
       "0                   False  {'clf__C': 0.013003686130638284, 'clf__penalty...   \n",
       "1                    True  {'clf__C': 54.02148221946703, 'clf__penalty': ...   \n",
       "2                    True  {'clf__C': 0.09882536189042468, 'clf__penalty'...   \n",
       "3                    True  {'clf__C': 739.3313143249965, 'clf__penalty': ...   \n",
       "4                   False  {'clf__C': 6.0873234832561394e-05, 'clf__penal...   \n",
       "\n",
       "   rank_test_score       ...         split2_test_score  split2_train_score  \\\n",
       "0               10       ...                  0.828339            0.835108   \n",
       "1               14       ...                  0.828252            0.849284   \n",
       "2                3       ...                  0.830870            0.847942   \n",
       "3               15       ...                  0.828240            0.849283   \n",
       "4               19       ...                  0.500000            0.500000   \n",
       "\n",
       "   split3_test_score  split3_train_score  split4_test_score  \\\n",
       "0           0.826307            0.835925           0.838228   \n",
       "1           0.826534            0.850177           0.836140   \n",
       "2           0.829224            0.849445           0.838952   \n",
       "3           0.826529            0.850175           0.836133   \n",
       "4           0.500000            0.500000           0.500000   \n",
       "\n",
       "   split4_train_score  std_fit_time  std_score_time  std_test_score  \\\n",
       "0            0.833296      0.046482        0.002682        0.004285   \n",
       "1            0.848428      0.067740        0.002896        0.003311   \n",
       "2            0.847168      0.227141        0.002671        0.003359   \n",
       "3            0.848430      0.121643        0.004163        0.003311   \n",
       "4            0.500000      0.019552        0.002083        0.000000   \n",
       "\n",
       "   std_train_score  \n",
       "0         0.000864  \n",
       "1         0.000720  \n",
       "2         0.000820  \n",
       "3         0.000719  \n",
       "4         0.000000  \n",
       "\n",
       "[5 rows x 24 columns]"
      ]
     },
     "execution_count": 32,
     "metadata": {},
     "output_type": "execute_result"
    }
   ],
   "source": [
    "results.head()"
   ]
  },
  {
   "cell_type": "code",
   "execution_count": 33,
   "metadata": {},
   "outputs": [],
   "source": [
    "best_model = random_searcher.best_estimator_"
   ]
  },
  {
   "cell_type": "markdown",
   "metadata": {},
   "source": [
    "### HyperOpt"
   ]
  },
  {
   "cell_type": "markdown",
   "metadata": {},
   "source": [
    "Есть еще другой вариант - \"умный\" перебор параметров. И вот тут нам помогает библиотека `hyperopt`.\n",
    "\n",
    "Если невдаваться в детали, то `hyperopt` определяет следующего набора-кандидата с помощью некоторого алгоритма, который балансирует исследование еще не изведанных областей значений гиперпараметров и направления, вдоль которых наблюдались улучшения целеой метрики.\n",
    "\n",
    "То есть мы задаем некоторую функцию, и ставим себе цель **минимизировать** (такова договоренность в `hyperopt`) ее значение исходя из параметров, которые она принимает.\n",
    "\n",
    "Например, возьмем функцию $f(x) = \\sin(x)/x$ и будем искать ее минимум при условии, что $x$ будет равномерно распределен на интервале $[-7.5, 7.5]$"
   ]
  },
  {
   "cell_type": "code",
   "execution_count": null,
   "metadata": {
    "collapsed": true
   },
   "outputs": [],
   "source": [
    "# sudo pip install networkx==1.11"
   ]
  },
  {
   "cell_type": "code",
   "execution_count": 91,
   "metadata": {},
   "outputs": [],
   "source": [
    "from hyperopt import fmin, tpe, hp, Trials, STATUS_OK, rand"
   ]
  },
  {
   "cell_type": "code",
   "execution_count": 92,
   "metadata": {},
   "outputs": [
    {
     "name": "stdout",
     "output_type": "stream",
     "text": [
      "{'x': -0.01412545402873755}\n"
     ]
    }
   ],
   "source": [
    "trials = Trials()\n",
    "best = fmin(\n",
    "    fn=lambda x: -np.sin(x)/x,\n",
    "    space=hp.uniform('x', -7.5, 7.5),\n",
    "    algo=tpe.suggest,\n",
    "    max_evals=100,\n",
    "    trials=trials)\n",
    "\n",
    "print (best)\n"
   ]
  },
  {
   "cell_type": "code",
   "execution_count": 93,
   "metadata": {},
   "outputs": [
    {
     "data": {
      "text/plain": [
       "[<matplotlib.lines.Line2D at 0x1b60476d8>]"
      ]
     },
     "execution_count": 93,
     "metadata": {},
     "output_type": "execute_result"
    },
    {
     "data": {
      "image/png": "[encoded data removed]",
      "text/plain": [
       "<matplotlib.figure.Figure at 0x1b6047518>"
      ]
     },
     "metadata": {},
     "output_type": "display_data"
    }
   ],
   "source": [
    "x = np.linspace(-10,10,50)\n",
    "func = lambda x: -np.sin(x)/x\n",
    "y = func(x)\n",
    "plt.plot(x,y)\n",
    "\n",
    "y_best = func(best['x'])\n",
    "plt.plot(best['x'], y_best, marker='s')"
   ]
  },
  {
   "cell_type": "markdown",
   "metadata": {},
   "source": [
    "Нашли)"
   ]
  },
  {
   "cell_type": "markdown",
   "metadata": {},
   "source": [
    "Возвращаясь к нашим баранам, функция вданном случае будет возвращать метрику качества модели (пайплайна) на кроссвалидации. С помощью `hyperopt` мы будем искать минимум этой функции при заданных диаполознах значений гипер параметров.\n",
    "\n",
    "Но самым важным плюсом, как по мне, является гибкость - в функцию, которую мы хотим минимизировать можно написать все что угодно. Например, сейчас я добавлю вариативность в пайплайне по типу шкалирования между - StandartScaler или RobustScaler."
   ]
  },
  {
   "cell_type": "code",
   "execution_count": 94,
   "metadata": {},
   "outputs": [],
   "source": [
    "from sklearn.preprocessing import RobustScaler\n",
    "from sklearn.model_selection import cross_val_score"
   ]
  },
  {
   "cell_type": "code",
   "execution_count": 95,
   "metadata": {},
   "outputs": [],
   "source": [
    "X = df_features.loc[:, idx_features].values\n",
    "y = df_features.loc[:, ~idx_features].values.flatten()"
   ]
  },
  {
   "cell_type": "code",
   "execution_count": 96,
   "metadata": {},
   "outputs": [],
   "source": [
    "def run_trials_template(X, y, params, evals=100):\n",
    "\n",
    "    def hyperopt_cv(X, y, params):\n",
    "        \n",
    "        X_ = X.copy()\n",
    "        \n",
    "        # Отделяем параметры лог регрессии в отдельный словарь\n",
    "        lm_params = {}\n",
    "        for k, v in params.items():\n",
    "            if k.startswith('glob'):\n",
    "                continue                \n",
    "            elif k.startswith('lm'):\n",
    "                lm_params[k.split('_', 1)[1]] = v\n",
    "        \n",
    "        # Задаем шкалирование\n",
    "        if params['scaler_type'] == 'standart':\n",
    "            scaler = StandardScaler(with_mean=params['scaler_centering'])\n",
    "        else:\n",
    "            assert params['scaler_type'] == 'robust'\n",
    "            scaler = RobustScaler(with_centering=params['scaler_centering'])\n",
    "        \n",
    "        # Создаем лог рег с нужными параметрами\n",
    "        clf = LogisticRegression(**lm_params)\n",
    "        \n",
    "        # Итоговый пайплайн\n",
    "        model = Pipeline([\n",
    "            ('scaler', scaler),\n",
    "            ('clf', clf)\n",
    "        ])\n",
    "\n",
    "        # Схема кросс-валидации\n",
    "        n_splits = 5\n",
    "        cv = StratifiedKFold(n_splits=n_splits, shuffle=True, \n",
    "                             random_state=RND_SEED)\n",
    "        scores = cross_val_score(model, X_, y,\n",
    "                                 scoring='roc_auc', \n",
    "                                 cv=cv, \n",
    "                                 n_jobs=-1)\n",
    "\n",
    "        # Возвращаем среднее значение метрики и отклонение (на всякий случай)\n",
    "        return scores.mean(), scores.std()\n",
    "\n",
    "    def f(params):\n",
    "        acc, std = hyperopt_cv(X, y, params)\n",
    "        return {'loss': -acc, 'qscore': -acc, 'qscore_std': std, 'status': STATUS_OK}\n",
    "\n",
    "    trials = Trials()\n",
    "    best = fmin(f, \n",
    "                params, \n",
    "                algo=tpe.suggest, \n",
    "                max_evals=evals, \n",
    "                trials=trials, \n",
    "                verbose=1)\n",
    "    \n",
    "    return trials"
   ]
  },
  {
   "cell_type": "code",
   "execution_count": 40,
   "metadata": {},
   "outputs": [],
   "source": [
    "# Задаем пространство поиска\n",
    "space4_lm = {\n",
    "    'lm_penalty': hp.choice('penalty', ['l1', 'l2']),\n",
    "    'lm_C': hp.loguniform('C', -5, 3),\n",
    "    'lm_class_weight': hp.choice('class_weight', [None, 'balanced']),\n",
    "    'lm_random_state': RND_SEED,\n",
    "    'scaler_type': hp.choice('scaler_type', ['standart', 'robust']),\n",
    "    'scaler_centering': hp.choice('scaler_centering', [False, True])\n",
    "}"
   ]
  },
  {
   "cell_type": "code",
   "execution_count": 41,
   "metadata": {},
   "outputs": [],
   "source": [
    "# Запускаем поиск\n",
    "trials = run_trials_template(X, y, space4_lm, evals=40)"
   ]
  },
  {
   "cell_type": "code",
   "execution_count": 42,
   "metadata": {},
   "outputs": [],
   "source": [
    "def trials_df(trials):\n",
    "    '''\n",
    "    Функция форматирует результаты hyperopt в dataframe\n",
    "    '''\n",
    "    tr_dict = []\n",
    "    for t in trials:\n",
    "        trial = dict()\n",
    "        for k, v in t['misc']['vals'].items():\n",
    "            trial[k] = v[0]\n",
    "\n",
    "        trial['qscore'] = -t['result']['qscore']\n",
    "        trial['qscore_std'] = -t['result']['qscore_std']\n",
    "        tr_dict.append(trial)\n",
    "\n",
    "    df_res = pd.DataFrame.from_dict(tr_dict)\n",
    "    df_res = df_res.sort_values('qscore', ascending=False)\n",
    "    \n",
    "    return df_res"
   ]
  },
  {
   "cell_type": "markdown",
   "metadata": {},
   "source": [
    "Достаем результаты.\n",
    "\n",
    "Стоит оговорится, что в некоторых столбцах указаны не фактические значение гиперпараметров, а их позиция в соответствуюем поле в `space4_lm`"
   ]
  },
  {
   "cell_type": "code",
   "execution_count": 43,
   "metadata": {},
   "outputs": [],
   "source": [
    "df_trials = trials_df(trials)"
   ]
  },
  {
   "cell_type": "markdown",
   "metadata": {},
   "source": [
    "Здесь `qscore` - метрика качесва, а `scaler_type = 1` означает, что был выбран `scaler_type = robust`"
   ]
  },
  {
   "cell_type": "code",
   "execution_count": 44,
   "metadata": {},
   "outputs": [
    {
     "data": {
      "text/html": [
       "<div>\n",
       "<style scoped>\n",
       "    .dataframe tbody tr th:only-of-type {\n",
       "        vertical-align: middle;\n",
       "    }\n",
       "\n",
       "    .dataframe tbody tr th {\n",
       "        vertical-align: top;\n",
       "    }\n",
       "\n",
       "    .dataframe thead th {\n",
       "        text-align: right;\n",
       "    }\n",
       "</style>\n",
       "<table border=\"1\" class=\"dataframe\">\n",
       "  <thead>\n",
       "    <tr style=\"text-align: right;\">\n",
       "      <th></th>\n",
       "      <th>C</th>\n",
       "      <th>class_weight</th>\n",
       "      <th>penalty</th>\n",
       "      <th>qscore</th>\n",
       "      <th>qscore_std</th>\n",
       "      <th>scaler_centering</th>\n",
       "      <th>scaler_type</th>\n",
       "    </tr>\n",
       "  </thead>\n",
       "  <tbody>\n",
       "    <tr>\n",
       "      <th>35</th>\n",
       "      <td>0.027102</td>\n",
       "      <td>1</td>\n",
       "      <td>0</td>\n",
       "      <td>0.836729</td>\n",
       "      <td>-0.003607</td>\n",
       "      <td>1</td>\n",
       "      <td>1</td>\n",
       "    </tr>\n",
       "    <tr>\n",
       "      <th>27</th>\n",
       "      <td>0.032317</td>\n",
       "      <td>1</td>\n",
       "      <td>0</td>\n",
       "      <td>0.836570</td>\n",
       "      <td>-0.003346</td>\n",
       "      <td>1</td>\n",
       "      <td>1</td>\n",
       "    </tr>\n",
       "    <tr>\n",
       "      <th>32</th>\n",
       "      <td>0.032986</td>\n",
       "      <td>1</td>\n",
       "      <td>0</td>\n",
       "      <td>0.836559</td>\n",
       "      <td>-0.003332</td>\n",
       "      <td>1</td>\n",
       "      <td>1</td>\n",
       "    </tr>\n",
       "    <tr>\n",
       "      <th>2</th>\n",
       "      <td>0.033628</td>\n",
       "      <td>1</td>\n",
       "      <td>0</td>\n",
       "      <td>0.836530</td>\n",
       "      <td>-0.003319</td>\n",
       "      <td>1</td>\n",
       "      <td>1</td>\n",
       "    </tr>\n",
       "    <tr>\n",
       "      <th>28</th>\n",
       "      <td>0.035160</td>\n",
       "      <td>1</td>\n",
       "      <td>0</td>\n",
       "      <td>0.836495</td>\n",
       "      <td>-0.003260</td>\n",
       "      <td>1</td>\n",
       "      <td>1</td>\n",
       "    </tr>\n",
       "  </tbody>\n",
       "</table>\n",
       "</div>"
      ],
      "text/plain": [
       "           C  class_weight  penalty    qscore  qscore_std  scaler_centering  \\\n",
       "35  0.027102             1        0  0.836729   -0.003607                 1   \n",
       "27  0.032317             1        0  0.836570   -0.003346                 1   \n",
       "32  0.032986             1        0  0.836559   -0.003332                 1   \n",
       "2   0.033628             1        0  0.836530   -0.003319                 1   \n",
       "28  0.035160             1        0  0.836495   -0.003260                 1   \n",
       "\n",
       "    scaler_type  \n",
       "35            1  \n",
       "27            1  \n",
       "32            1  \n",
       "2             1  \n",
       "28            1  "
      ]
     },
     "execution_count": 44,
     "metadata": {},
     "output_type": "execute_result"
    }
   ],
   "source": [
    "df_trials.head()"
   ]
  },
  {
   "cell_type": "markdown",
   "metadata": {},
   "source": [
    "## Ваш черед"
   ]
  },
  {
   "cell_type": "markdown",
   "metadata": {},
   "source": [
    "### Новые признаки"
   ]
  },
  {
   "cell_type": "markdown",
   "metadata": {},
   "source": [
    "Задание творческое - придумайте по новому признаку (группе признаков)\n",
    "* На основе mcc (tr_type)\n",
    "* На основе временного фактора\n",
    "* На основе текстов из описания mcc\n",
    "\n",
    "Реалиуйте их в функции, аналогичной `gen_features`."
   ]
  },
  {
   "cell_type": "code",
   "execution_count": 17,
   "metadata": {},
   "outputs": [],
   "source": [
    "def gen_features(df_gender, df_transactions):\n",
    "    \n",
    "    df_type = df_transactions[['tr_type']]\n",
    "    type_filter = df_type.groupby(by='tr_type').size()\n",
    "    type_filter = type_filter[type_filter.values>5000]\n",
    "    df_type['flag']=df_type['tr_type'].isin(type_filter.index)\n",
    "    \n",
    "    # далее используем только df, ограниченный основными типами транзакций\n",
    "    df_transactions_flag = pd.concat([df_transactions, df_type.loc[:,'flag']], axis=1)\n",
    "    \n",
    "\n",
    "    \n",
    "    # создание признака на основе названия типа оплаты (было интересное замечание у Дьяконова)\n",
    "    df_transactions_tr_descr = df_transactions_flag[df_transactions_flag['flag']==True]\\\n",
    "                                                .join(df_tr.set_index('tr_type').loc[:,'tr_description'],\n",
    "                                                        on='tr_type', how='left')\n",
    "        \n",
    "    df_transactions_tr_pivot = df_transactions_tr_descr.pivot_table(index=['customer_id'], values='tr_description', \n",
    "                                                                aggfunc=lambda x: ' '.join(x))   \n",
    "    \n",
    " \n",
    "\n",
    "    # создание признака на основе mms_description (было интересное замечание у Дьяконова)\n",
    "    df_transactions_mcc = df_transactions_flag[df_transactions_flag['flag']==True]\\\n",
    "                                            .join(df_mcc.set_index('mcc_code'), on='mcc_code')\n",
    "    \n",
    "    df_transactions_mcc_pivot = df_transactions_mcc.pivot_table(index=['customer_id'], values='mcc_description', \n",
    "                                                            aggfunc=lambda x: ' '.join(x))\n",
    "    \n",
    "    \n",
    "\n",
    "    # создание признака на основе количества типов оплат            \n",
    "    df_tr_type_counts = \\\n",
    "        df_transactions_flag[df_transactions_flag['flag']==True].pivot_table(index=['customer_id'], columns='tr_type'\n",
    "                                                                     , values='amount', aggfunc=np.size, fill_value=0)\n",
    "    df_tr_type_counts = df_tr_type_counts.rename(lambda x: 'tr_type_{}_count'.format(x), axis=1)\n",
    "\n",
    "        \n",
    "   \n",
    "    # создание признака как показатель кол-во транзакций/день (была интересная картинка у Дьяконова)\n",
    "    \n",
    "    transactions_by_day = df_transactions_flag.pivot_table(index=['customer_id'], columns='date', values='amount', \n",
    "                             aggfunc=np.size, fill_value=0)\n",
    "    \n",
    "    total = transactions_by_day.sum(axis=1)\n",
    "    transactions_by_day.loc[:,'days_count'] = transactions_by_day.T[lambda x: x != 0].count()\n",
    "    transactions_by_day.loc[:,'tr_per_day'] = (total/transactions_by_day.loc[:,'days_count']).T\n",
    "        \n",
    "    # Объединяем:\n",
    "    df_features = df_gender.join(df_transactions_tr_pivot, on='customer_id', how='left')\\\n",
    "                            .join(df_transactions_mcc_pivot, on='customer_id', how='left')\\\n",
    "                            .join(df_tr_type_counts, on='customer_id', how='left')\\\n",
    "                            .join(transactions_by_day.loc[:,'tr_per_day'], on='customer_id', how='left')\n",
    "        \n",
    "    return df_features                        \n"
   ]
  },
  {
   "cell_type": "code",
   "execution_count": null,
   "metadata": {},
   "outputs": [],
   "source": []
  },
  {
   "cell_type": "code",
   "execution_count": 51,
   "metadata": {},
   "outputs": [
    {
     "name": "stderr",
     "output_type": "stream",
     "text": [
      "/Library/Frameworks/Python.framework/Versions/3.6/lib/python3.6/site-packages/ipykernel_launcher.py:6: SettingWithCopyWarning: \n",
      "A value is trying to be set on a copy of a slice from a DataFrame.\n",
      "Try using .loc[row_indexer,col_indexer] = value instead\n",
      "\n",
      "See the caveats in the documentation: http://pandas.pydata.org/pandas-docs/stable/indexing.html#indexing-view-versus-copy\n",
      "  \n"
     ]
    }
   ],
   "source": [
    "df_features = df_gender.pipe(gen_features, df_transactions)"
   ]
  },
  {
   "cell_type": "code",
   "execution_count": 52,
   "metadata": {},
   "outputs": [],
   "source": [
    "df_features.loc[:, ['mcc_description', 'tr_description']] = df_features.loc[:,['mcc_description', 'tr_description']].fillna(u'')"
   ]
  },
  {
   "cell_type": "code",
   "execution_count": 80,
   "metadata": {},
   "outputs": [],
   "source": [
    "df_features.loc[:, 'tr_type_1010_count':'tr_per_day'] = df_features.loc[:, 'tr_type_1010_count':'tr_per_day'].fillna(value = 0)"
   ]
  },
  {
   "cell_type": "code",
   "execution_count": 81,
   "metadata": {},
   "outputs": [],
   "source": [
    "label = 'gender'\n",
    "idx_features = df_features.columns != label"
   ]
  },
  {
   "cell_type": "code",
   "execution_count": 82,
   "metadata": {},
   "outputs": [],
   "source": [
    "X = df_features.loc[:, idx_features].values\n",
    "y = df_features.loc[:, ~idx_features].values.flatten()"
   ]
  },
  {
   "cell_type": "markdown",
   "metadata": {},
   "source": [
    "## Поиск гиперпараметров"
   ]
  },
  {
   "cell_type": "markdown",
   "metadata": {},
   "source": [
    "Реализуйте функцию для hyperopt по перебору гипер параметров вашего пайплайна\n",
    "\n",
    "На всякий случай почитайте еще про [`FeatureUnion`](http://scikit-learn.org/stable/modules/generated/sklearn.pipeline.FeatureUnion.html) и [пример](http://scikit-learn.org/stable/auto_examples/hetero_feature_union.html#sphx-glr-auto-examples-hetero-feature-union-py)"
   ]
  },
  {
   "cell_type": "code",
   "execution_count": 83,
   "metadata": {},
   "outputs": [],
   "source": [
    "from hyperopt import fmin, tpe, hp, Trials, STATUS_OK, rand\n",
    "from sklearn.feature_extraction.text import TfidfVectorizer\n"
   ]
  },
  {
   "cell_type": "code",
   "execution_count": 84,
   "metadata": {},
   "outputs": [],
   "source": [
    "# А это трансформер, который выбирает подможнество столбцов из матрицы X\n",
    "# Который нужен для того, чтобы делать какие-то действия только для подмноества столбцов, а потом объединять результаты\n",
    "# Через FeatureUnion\n",
    "\n",
    "from sklearn.base import BaseEstimator, TransformerMixin\n",
    "\n",
    "class ColumnSelector(BaseEstimator, TransformerMixin):\n",
    "    def __init__(self, col_idx):\n",
    "        self.col_idx = col_idx\n",
    "    \n",
    "    def fit(self, X, y=None):\n",
    "        return self\n",
    "\n",
    "    def transform(self, X):\n",
    "        return X[:, self.col_idx]"
   ]
  },
  {
   "cell_type": "code",
   "execution_count": 85,
   "metadata": {},
   "outputs": [],
   "source": [
    "def run_trials_template(X, y, params, evals=100):\n",
    "\n",
    "    def hyperopt_cv(X, y, params):\n",
    "        \n",
    "        X_ = X.copy()\n",
    "        \n",
    "        # Отделяем параметры лог регрессии в отдельный словарь\n",
    "        lm_params = {}\n",
    "        for k, v in params.items():\n",
    "            if k.startswith('glob'):\n",
    "                continue                \n",
    "            elif k.startswith('lm'):\n",
    "                lm_params[k.split('_', 1)[1]] = v\n",
    "        \n",
    "        # Задаем шкалирование\n",
    "        if params['scaler_type'] == 'standart':\n",
    "            scaler = StandardScaler(with_mean=params['scaler_centering'])\n",
    "        else:\n",
    "            assert params['scaler_type'] == 'robust'\n",
    "            scaler = RobustScaler(with_centering=params['scaler_centering'])\n",
    "            \n",
    "            \n",
    "        # Создаем лог рег с нужными параметрами\n",
    "        clf = LogisticRegression(**lm_params)\n",
    "        \n",
    "        # Итоговый пайплайн\n",
    "        model = Pipeline([\n",
    "\n",
    "            ('features', FeatureUnion(\n",
    "                transformer_list=[\n",
    "\n",
    "                    ('tr_text',Pipeline([\n",
    "                        ('col_select_1',ColumnSelector(1)),\n",
    "                        ('vect', TfidfVectorizer(\n",
    "                                    max_df=0.95, min_df=5,\n",
    "                                    ngram_range = (1,1)))\n",
    "                    ])),\n",
    "\n",
    "\n",
    "                    ('mcc_text',Pipeline([\n",
    "                        ('col_select_2',ColumnSelector(2)),\n",
    "                        ('vect', TfidfVectorizer(\n",
    "                                    max_df=0.95, min_df=5,\n",
    "                                    ngram_range = (1,1)))\n",
    "                    ])),\n",
    "\n",
    "\n",
    "                    ('multy_col',Pipeline([\n",
    "                        ('col_select_3',ColumnSelector(list(range(3,X.shape[1])))),\n",
    "                        ('scaler', scaler)\n",
    "                        \n",
    "                    ])),                    \n",
    "            ])),\n",
    "            ('clf', clf)\n",
    "        ])\n",
    "\n",
    "        # Схема кросс-валидации\n",
    "        n_splits = 5\n",
    "        cv = StratifiedKFold(n_splits=n_splits, shuffle=True, \n",
    "                             random_state=RND_SEED)\n",
    "        scores = cross_val_score(model, X_, y,\n",
    "                                 scoring='roc_auc', \n",
    "                                 cv=cv, \n",
    "                                 n_jobs=-1)\n",
    "\n",
    "        # Возвращаем среднее значение метрики и отклонение (на всякий случай)\n",
    "        return scores.mean(), scores.std()\n",
    "\n",
    "    def f(params):\n",
    "        acc, std = hyperopt_cv(X, y, params)\n",
    "        return {'loss': -acc, 'qscore': -acc, 'qscore_std': std, 'status': STATUS_OK}\n",
    "\n",
    "    trials = Trials()\n",
    "    best = fmin(f, \n",
    "                params, \n",
    "                algo=tpe.suggest, \n",
    "                max_evals=evals, \n",
    "                trials=trials, \n",
    "                verbose=1)\n",
    "    \n",
    "    return trials"
   ]
  },
  {
   "cell_type": "code",
   "execution_count": 86,
   "metadata": {},
   "outputs": [],
   "source": [
    "#Задаем пространство поиска\n",
    "space4_lm = {\n",
    "    'lm_penalty': hp.choice('penalty', ['l1', 'l2']),\n",
    "    'lm_C': hp.loguniform('C', -5, 3),\n",
    "    'lm_class_weight': hp.choice('class_weight', [None, 'balanced']),\n",
    "    'lm_random_state': RND_SEED,\n",
    "    'scaler_type': hp.choice('scaler_type', ['standart', 'robust']),\n",
    "    'scaler_centering': hp.choice('scaler_centering', [False, True])\n",
    "}"
   ]
  },
  {
   "cell_type": "code",
   "execution_count": 87,
   "metadata": {},
   "outputs": [
    {
     "name": "stderr",
     "output_type": "stream",
     "text": [
      "/Library/Frameworks/Python.framework/Versions/3.6/lib/python3.6/site-packages/sklearn/utils/validation.py:475: DataConversionWarning: Data with input dtype object was converted to float64 by StandardScaler.\n",
      "  warnings.warn(msg, DataConversionWarning)\n",
      "/Library/Frameworks/Python.framework/Versions/3.6/lib/python3.6/site-packages/sklearn/utils/validation.py:475: DataConversionWarning: Data with input dtype object was converted to float64 by StandardScaler.\n",
      "  warnings.warn(msg, DataConversionWarning)\n",
      "/Library/Frameworks/Python.framework/Versions/3.6/lib/python3.6/site-packages/sklearn/utils/validation.py:475: DataConversionWarning: Data with input dtype object was converted to float64 by StandardScaler.\n",
      "  warnings.warn(msg, DataConversionWarning)\n",
      "/Library/Frameworks/Python.framework/Versions/3.6/lib/python3.6/site-packages/sklearn/utils/validation.py:475: DataConversionWarning: Data with input dtype object was converted to float64 by StandardScaler.\n",
      "  warnings.warn(msg, DataConversionWarning)\n",
      "/Library/Frameworks/Python.framework/Versions/3.6/lib/python3.6/site-packages/sklearn/utils/validation.py:475: DataConversionWarning: Data with input dtype object was converted to float64 by StandardScaler.\n",
      "  warnings.warn(msg, DataConversionWarning)\n",
      "/Library/Frameworks/Python.framework/Versions/3.6/lib/python3.6/site-packages/sklearn/utils/validation.py:475: DataConversionWarning: Data with input dtype object was converted to float64 by StandardScaler.\n",
      "  warnings.warn(msg, DataConversionWarning)\n",
      "/Library/Frameworks/Python.framework/Versions/3.6/lib/python3.6/site-packages/sklearn/utils/validation.py:475: DataConversionWarning: Data with input dtype object was converted to float64 by StandardScaler.\n",
      "  warnings.warn(msg, DataConversionWarning)\n",
      "/Library/Frameworks/Python.framework/Versions/3.6/lib/python3.6/site-packages/sklearn/utils/validation.py:475: DataConversionWarning: Data with input dtype object was converted to float64 by StandardScaler.\n",
      "  warnings.warn(msg, DataConversionWarning)\n",
      "/Library/Frameworks/Python.framework/Versions/3.6/lib/python3.6/site-packages/sklearn/utils/validation.py:475: DataConversionWarning: Data with input dtype object was converted to float64 by StandardScaler.\n",
      "  warnings.warn(msg, DataConversionWarning)\n",
      "/Library/Frameworks/Python.framework/Versions/3.6/lib/python3.6/site-packages/sklearn/utils/validation.py:475: DataConversionWarning: Data with input dtype object was converted to float64 by StandardScaler.\n",
      "  warnings.warn(msg, DataConversionWarning)\n",
      "/Library/Frameworks/Python.framework/Versions/3.6/lib/python3.6/site-packages/sklearn/utils/validation.py:475: DataConversionWarning: Data with input dtype object was converted to float64 by StandardScaler.\n",
      "  warnings.warn(msg, DataConversionWarning)\n",
      "/Library/Frameworks/Python.framework/Versions/3.6/lib/python3.6/site-packages/sklearn/utils/validation.py:475: DataConversionWarning: Data with input dtype object was converted to float64 by StandardScaler.\n",
      "  warnings.warn(msg, DataConversionWarning)\n",
      "/Library/Frameworks/Python.framework/Versions/3.6/lib/python3.6/site-packages/sklearn/utils/validation.py:475: DataConversionWarning: Data with input dtype object was converted to float64 by StandardScaler.\n",
      "  warnings.warn(msg, DataConversionWarning)\n",
      "/Library/Frameworks/Python.framework/Versions/3.6/lib/python3.6/site-packages/sklearn/utils/validation.py:475: DataConversionWarning: Data with input dtype object was converted to float64 by StandardScaler.\n",
      "  warnings.warn(msg, DataConversionWarning)\n",
      "/Library/Frameworks/Python.framework/Versions/3.6/lib/python3.6/site-packages/sklearn/utils/validation.py:475: DataConversionWarning: Data with input dtype object was converted to float64 by StandardScaler.\n",
      "  warnings.warn(msg, DataConversionWarning)\n"
     ]
    }
   ],
   "source": [
    "# я прекрасно понимаю, что evals=3 не позволит найти оптимальных коэффициентов,\n",
    "# но пришлось граничиться ими, т.к. у меня нет возможности запустить расчет надолго\n",
    "\n",
    "# Запускаем поиск\n",
    "trials = run_trials_template(X, y, space4_lm, evals=3)"
   ]
  },
  {
   "cell_type": "code",
   "execution_count": 88,
   "metadata": {},
   "outputs": [],
   "source": [
    "def trials_df(trials):\n",
    "    '''\n",
    "    Функция форматирует результаты hyperopt в dataframe\n",
    "    '''\n",
    "    tr_dict = []\n",
    "    for t in trials:\n",
    "        trial = dict()\n",
    "        for k, v in t['misc']['vals'].items():\n",
    "            trial[k] = v[0]\n",
    "\n",
    "        trial['qscore'] = -t['result']['qscore']\n",
    "        trial['qscore_std'] = -t['result']['qscore_std']\n",
    "        tr_dict.append(trial)\n",
    "\n",
    "    df_res = pd.DataFrame.from_dict(tr_dict)\n",
    "    df_res = df_res.sort_values('qscore', ascending=False)\n",
    "    \n",
    "    return df_res"
   ]
  },
  {
   "cell_type": "code",
   "execution_count": 89,
   "metadata": {},
   "outputs": [],
   "source": [
    "df_trials = trials_df(trials)"
   ]
  },
  {
   "cell_type": "code",
   "execution_count": 90,
   "metadata": {},
   "outputs": [
    {
     "data": {
      "text/html": [
       "<div>\n",
       "<style scoped>\n",
       "    .dataframe tbody tr th:only-of-type {\n",
       "        vertical-align: middle;\n",
       "    }\n",
       "\n",
       "    .dataframe tbody tr th {\n",
       "        vertical-align: top;\n",
       "    }\n",
       "\n",
       "    .dataframe thead th {\n",
       "        text-align: right;\n",
       "    }\n",
       "</style>\n",
       "<table border=\"1\" class=\"dataframe\">\n",
       "  <thead>\n",
       "    <tr style=\"text-align: right;\">\n",
       "      <th></th>\n",
       "      <th>C</th>\n",
       "      <th>class_weight</th>\n",
       "      <th>penalty</th>\n",
       "      <th>qscore</th>\n",
       "      <th>qscore_std</th>\n",
       "      <th>scaler_centering</th>\n",
       "      <th>scaler_type</th>\n",
       "    </tr>\n",
       "  </thead>\n",
       "  <tbody>\n",
       "    <tr>\n",
       "      <th>1</th>\n",
       "      <td>6.923353</td>\n",
       "      <td>0</td>\n",
       "      <td>0</td>\n",
       "      <td>0.840335</td>\n",
       "      <td>-0.004282</td>\n",
       "      <td>0</td>\n",
       "      <td>0</td>\n",
       "    </tr>\n",
       "    <tr>\n",
       "      <th>0</th>\n",
       "      <td>0.085895</td>\n",
       "      <td>1</td>\n",
       "      <td>0</td>\n",
       "      <td>0.778601</td>\n",
       "      <td>-0.008308</td>\n",
       "      <td>0</td>\n",
       "      <td>0</td>\n",
       "    </tr>\n",
       "    <tr>\n",
       "      <th>2</th>\n",
       "      <td>0.023301</td>\n",
       "      <td>1</td>\n",
       "      <td>1</td>\n",
       "      <td>0.745094</td>\n",
       "      <td>-0.010193</td>\n",
       "      <td>1</td>\n",
       "      <td>0</td>\n",
       "    </tr>\n",
       "  </tbody>\n",
       "</table>\n",
       "</div>"
      ],
      "text/plain": [
       "          C  class_weight  penalty    qscore  qscore_std  scaler_centering  \\\n",
       "1  6.923353             0        0  0.840335   -0.004282                 0   \n",
       "0  0.085895             1        0  0.778601   -0.008308                 0   \n",
       "2  0.023301             1        1  0.745094   -0.010193                 1   \n",
       "\n",
       "   scaler_type  \n",
       "1            0  \n",
       "0            0  \n",
       "2            0  "
      ]
     },
     "execution_count": 90,
     "metadata": {},
     "output_type": "execute_result"
    }
   ],
   "source": [
    "df_trials.head()"
   ]
  },
  {
   "cell_type": "code",
   "execution_count": null,
   "metadata": {},
   "outputs": [],
   "source": []
  }
 ],
 "metadata": {
  "anaconda-cloud": {},
  "kernelspec": {
   "display_name": "Python 3",
   "language": "python",
   "name": "python3"
  },
  "language_info": {
   "codemirror_mode": {
    "name": "ipython",
    "version": 3
   },
   "file_extension": ".py",
   "mimetype": "text/x-python",
   "name": "python",
   "nbconvert_exporter": "python",
   "pygments_lexer": "ipython3",
   "version": "3.6.4"
  },
  "nav_menu": {},
  "toc": {
   "colors": {
    "hover_highlight": "#DAA520",
    "navigate_num": "#000000",
    "navigate_text": "#333333",
    "running_highlight": "#FF0000",
    "selected_highlight": "#FFD700",
    "sidebar_border": "#EEEEEE",
    "wrapper_background": "#FFFFFF"
   },
   "moveMenuLeft": true,
   "nav_menu": {
    "height": "347px",
    "width": "253px"
   },
   "navigate_menu": true,
   "number_sections": false,
   "sideBar": true,
   "threshold": 4,
   "toc_cell": true,
   "toc_position": {
    "height": "222px",
    "left": "0px",
    "right": "1247.33px",
    "top": "108px",
    "width": "182px"
   },
   "toc_section_display": "block",
   "toc_window_display": true,
   "widenNotebook": false
  },
  "toc_position": {
   "height": "40px",
   "left": "816px",
   "right": "38.6667px",
   "top": "0px",
   "width": "212px"
  }
 },
 "nbformat": 4,
 "nbformat_minor": 1
}
